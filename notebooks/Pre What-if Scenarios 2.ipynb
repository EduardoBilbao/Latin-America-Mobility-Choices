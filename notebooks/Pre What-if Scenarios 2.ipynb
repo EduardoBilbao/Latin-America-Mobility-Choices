{
 "cells": [
  {
   "cell_type": "code",
   "execution_count": 70,
   "metadata": {},
   "outputs": [],
   "source": [
    "# Base utilities\n",
    "import os\n",
    "\n",
    "# Data Mining\n",
    "import math\n",
    "import random\n",
    "random_state = 42\n",
    "random.seed(random_state)\n",
    "seed=random_state\n",
    "import numpy as np \n",
    "import pandas as pd\n",
    "import geopandas as gpd\n",
    "import osmnx as ox\n",
    "import pandana as pdn\n",
    "import pickle as pkl\n",
    "\n",
    "# Plot\n",
    "import matplotlib.pyplot as plt\n",
    "import matplotlib.pyplot as plot\n",
    "import seaborn as sns\n",
    "\n",
    "# Learning\n",
    "from sklearn import metrics\n",
    "from sklearn.preprocessing import LabelEncoder\n",
    "from sklearn.preprocessing import MinMaxScaler\n",
    "\n",
    "from sklearn.utils import shuffle\n",
    "from sklearn.model_selection import cross_val_score, train_test_split, KFold\n",
    "\n",
    "# Models\n",
    "from sklearn.model_selection import GridSearchCV\n",
    "from sklearn.neighbors import KNeighborsClassifier\n",
    "from sklearn.svm import SVC \n",
    "from sklearn.ensemble import AdaBoostClassifier, RandomForestClassifier\n",
    "from sklearn.tree import DecisionTreeClassifier\n",
    "\n",
    "# Directories (Si no existen se crean)\n",
    "for d in [\"data\", \"logs\", \"models\", \"networks\"]:\n",
    "    if not os.path.isdir(d):\n",
    "        os.mkdir(d)"
   ]
  },
  {
   "cell_type": "code",
   "execution_count": 71,
   "metadata": {},
   "outputs": [],
   "source": [
    "trips = pd.read_csv(f'What-if 2.csv', sep=',')\n"
   ]
  },
  {
   "cell_type": "code",
   "execution_count": null,
   "metadata": {},
   "outputs": [],
   "source": [
    "#Seleccionar las columna que queremos del fichero\n",
    "trips = trips[\n",
    "    ['NIVEL', 'CICLO', 'Centro', 'Promedio', 'SEXO', 'EDAD',\n",
    "     '¿EN QUÉ MUNICIPIO VIVES?', '¿CÓMO ACOSTUMBRAS A IR DE TU CASA A LA ESCUELA?',\n",
    "     '¿CUÁNTO TIEMPO HACES DE TU CASA A LA ESCUELA?', '¿CUÁL ES TU SITUACIÓN CONYUGAL?',\n",
    "     '¿TIENES HIJOS?', 'CÚANTAS PERSONAS, ADEMÁS DE TI, ¿HABITAN EN TU VIVIENDA?',\n",
    "     '¿CUÁNTOS AUTOMÓVILES O CAMIONETAS TIENEN EN TU HOGAR, INCLUYENDO CAMIONETAS CERRADAS, O CON CABINA O CAJA?',\n",
    "     'AHORA, AYUDANOS A CONOCER EL MONTO PROMEDIO DE INGRESOS TRIMESTRALES DE TU HOGAR  \tSelecciona la opción de monto de ingresos que más se acerque al ingreso trimestral de todos los miembros del hogar',\n",
    "     '¿DE QUE MATERIAL ES EL PISO DE TU CASA?', '¿TU CASA DISPONE DE AGUA ENTUBADA?',\n",
    "     'EN TU CASA, ¿DE DÓNDE OBTIENEN LA LUZ ELÉCTRICA?',\n",
    "     '¿ERES EL PRIMER INTEGRANTE DE TU FAMILIA INMEDIATA (PADRES Y/O HERMANOS) EN ASISTIR A LA UNIVERSIDAD?',\n",
    "      'Latitud', 'Longitud',\n",
    "     'Centro específico', 'Latitud_centro', 'Longitud_centro','Nombre de la colonia']\n",
    "]\n",
    "\n",
    "print (trips.head().columns)\n",
    "\n",
    "trips = trips.rename(columns={'¿EN QUÉ MUNICIPIO VIVES?': 'MUNICIPIO'})\n",
    "trips = trips.rename(columns={'¿CÓMO ACOSTUMBRAS A IR DE TU CASA A LA ESCUELA?': 'Modo transporte'})\n",
    "trips = trips.rename(columns={'¿CUÁNTO TIEMPO HACES DE TU CASA A LA ESCUELA?': 'Tiempo origen-destino'})\n",
    "trips = trips.rename(columns={'¿CUÁL ES TU SITUACIÓN CONYUGAL?': 'Situacion conyugal'})\n",
    "trips = trips.rename(columns={'CÚANTAS PERSONAS, ADEMÁS DE TI, ¿HABITAN EN TU VIVIENDA?': 'Personas en la vivienda'})\n",
    "trips = trips.rename(columns={'¿CUÁNTOS AUTOMÓVILES O CAMIONETAS TIENEN EN TU HOGAR, INCLUYENDO CAMIONETAS CERRADAS, O CON CABINA O CAJA?': 'Automoviles o camionetas en el hogar incluyendo cabina o caja'})\n",
    "trips = trips.rename(columns={'AHORA, AYUDANOS A CONOCER EL MONTO PROMEDIO DE INGRESOS TRIMESTRALES DE TU HOGAR  \tSelecciona la opción de monto de ingresos que más se acerque al ingreso trimestral de todos los miembros del hogar': 'Ingreso trimestral de todos los miembros del hogar'})\n",
    "trips = trips.rename(columns={'¿DE QUE MATERIAL ES EL PISO DE TU CASA?': 'Material del piso de la casa'})\n",
    "trips = trips.rename(columns={'¿TU CASA DISPONE DE AGUA ENTUBADA?': 'Agua entubada en la casa'})\n",
    "trips = trips.rename(columns={'¿TIENES HIJOS?': 'HIJOS'})\n",
    "trips = trips.rename(columns={'EN TU CASA, ¿DE DÓNDE OBTIENEN LA LUZ ELÉCTRICA?': 'Luz electrica en la casa'})\n",
    "trips = trips.rename(columns={'¿ERES EL PRIMER INTEGRANTE DE TU FAMILIA INMEDIATA (PADRES Y/O HERMANOS) EN ASISTIR A LA UNIVERSIDAD?': 'Primer integrante de la familia en asistir a la universidad'})\n"
   ]
  },
  {
   "cell_type": "code",
   "execution_count": null,
   "metadata": {},
   "outputs": [],
   "source": [
    "#Contar los valores vacíos de cada columna\n",
    "NaN_mask = trips.apply(lambda col: col.astype(str).str.contains(r\"\\\\N\"))\n",
    "trips = trips.where(~NaN_mask,None)\n",
    "NaN_mask.sum()"
   ]
  },
  {
   "cell_type": "code",
   "execution_count": 74,
   "metadata": {},
   "outputs": [],
   "source": [
    "# trips.loc[NaN_mask[\"previous_trip_purpose\"],\"previous_trip_purpose\"] = trips.loc[NaN_mask[\"previous_trip_purpose\"],\"trip_purpose\"]\n",
    "# #Rellenar huecos vacíos con la media de esos valores\n",
    "# for column in [\"trip_taker_\"+c for c in [\"age\",\"individual_income\",\"household_size\",\"household_income\"]]:\n",
    "#     trips.loc[NaN_mask[column],column] = pd.to_numeric(trips.loc[~NaN_mask[column],column]).mean()\n",
    "# #Eliminar filas que no tienen lat y long\n",
    "# for column in [\"trip_taker_\"+c for c in [\"home_bgrp_lat\",\"home_bgrp_lng\",\"work_bgrp_lat\",\"work_bgrp_lng\"]]:\n",
    "#     trips = trips[~NaN_mask[column]] \n",
    "# #Si tiene un valor nulo se le pone ese indicado\n",
    "# trips.loc[NaN_mask[\"trip_taker_sex\"],\"trip_taker_sex\"] = \"male\"\n",
    "# trips.loc[NaN_mask[\"trip_taker_race_ethnicity\"],\"trip_taker_race_ethnicity\"] = \"white_not_hispanic_or_latino\"\n",
    "# trips.loc[NaN_mask[\"trip_taker_employment_status\"],\"trip_taker_employment_status\"] = \"employed\"\n",
    "# trips.loc[NaN_mask[\"trip_taker_wfh\"],\"trip_taker_wfh\"] = \"in_person\"\n",
    "# # trips.loc[NaN_mask[\"trip_taker_commute_mode\"],\"trip_taker_commute_mode\"] = \"private_auto\"\n",
    "# # trips.loc[NaN_mask[\"trip_taker_available_vehicles\"],\"trip_taker_available_vehicles\"] = \"one\"\n",
    "# trips.loc[NaN_mask[\"trip_taker_resident_type\"],\"trip_taker_resident_type\"] = \"core\""
   ]
  },
  {
   "cell_type": "markdown",
   "metadata": {},
   "source": [
    "## Sampling, filtering and label aggregation"
   ]
  },
  {
   "cell_type": "code",
   "execution_count": null,
   "metadata": {},
   "outputs": [],
   "source": [
    "trips = trips[trips['Modo transporte'] != 'Bike']\n",
    "for p in [f\"{label}: {trips[trips['Modo transporte'] == label].shape[0]:,}\" for label in trips['Modo transporte'].unique()]:\n",
    "    print(p)\n",
    "print(f\"Total: {trips.shape[0]:,}\")\n"
   ]
  },
  {
   "cell_type": "code",
   "execution_count": null,
   "metadata": {},
   "outputs": [],
   "source": [
    "for p in [f\"{label}: {trips[trips['Modo transporte'] == label].shape[0]:,}\" for label in trips['Modo transporte'].unique()]:\n",
    "    print(p)\n",
    "print(f\"Total: {trips.shape[0]:,}\")"
   ]
  },
  {
   "cell_type": "code",
   "execution_count": null,
   "metadata": {},
   "outputs": [],
   "source": [
    "for p in [f\"{label}: {trips[trips['Modo transporte'] == label].shape[0]:,}\" for label in trips['Modo transporte'].unique()]:\n",
    "    print(p)\n",
    "print(f\"Total: {trips.shape[0]:,}\")"
   ]
  },
  {
   "cell_type": "code",
   "execution_count": null,
   "metadata": {},
   "outputs": [],
   "source": [
    "#Establecer rangos en los ingresos (de string a numerico)\n",
    "trips['Ingreso trimestral de todos los miembros del hogar'] = trips['Ingreso trimestral de todos los miembros del hogar'].replace({\"$0 a $9,113\": 1, \"$9,114 a $16,100\": 2,\"$16,101 a $21,428\":3, \"$21,429 a $26,696\":4,\"$26,697 a $32,318\":5, \"$32,319 a $38,957\":6, \"$38,958 a $47,264\":7, \"$47,265 a $58,885\":8, \"$58,886 a $78,591\":9, \"$78,592 a $166,750\":10 })\n",
    "\n",
    "print(trips['Ingreso trimestral de todos los miembros del hogar'].unique())\n",
    "\n",
    "\n",
    "trips['Automoviles o camionetas en el hogar incluyendo cabina o caja'] = trips['Automoviles o camionetas en el hogar incluyendo cabina o caja'].replace({\"2 ó más\":2,\"1\":1, \"0\":0})\n",
    "print(trips['Automoviles o camionetas en el hogar incluyendo cabina o caja'].unique())\n",
    "\n",
    "trips['Personas en la vivienda'] = trips['Personas en la vivienda'].replace({\"Vivo solo\":0,\"1\":1,\"2\":2,\"3\":3,\"4\":4,\"5\":5,\"6\":6,\"7\":7,\"8\":8,\"9\":9,\"10\":10,\"Mas de 10\":11 })\n",
    "print(trips['Personas en la vivienda'].unique())\n"
   ]
  },
  {
   "cell_type": "code",
   "execution_count": 81,
   "metadata": {},
   "outputs": [],
   "source": [
    "trips.to_csv(f\"data/Guadalajara_no_NaNs.csv\")"
   ]
  },
  {
   "cell_type": "code",
   "execution_count": 82,
   "metadata": {},
   "outputs": [],
   "source": [
    "trips = pd.read_csv(f\"data/Guadalajara_no_NaNs.csv\",index_col=0)"
   ]
  },
  {
   "attachments": {},
   "cell_type": "markdown",
   "metadata": {},
   "source": [
    "## Columns Encoding"
   ]
  },
  {
   "cell_type": "code",
   "execution_count": null,
   "metadata": {},
   "outputs": [],
   "source": [
    "from sklearn.preprocessing import LabelEncoder\n",
    "import os\n",
    "import pickle as pkl\n",
    "\n",
    "# Directorio donde se encuentran los encoders\n",
    "encoders_directory = \"models/encoders\"\n",
    "\n",
    "# Definir las columnas categóricas en 'trips'\n",
    "cat_cols = [\"Centro\", \"NIVEL\", \"SEXO\", \"Situacion conyugal\", \"MUNICIPIO\", \"HIJOS\", \"Material del piso de la casa\", \"Agua entubada en la casa\", \"Luz electrica en la casa\", \"Primer integrante de la familia en asistir a la universidad\", \"Centro específico\"]\n",
    "\n",
    "# Diccionario para almacenar los encoders\n",
    "encoders = {}\n",
    "\n",
    "# Iterar a través de las columnas categóricas\n",
    "for col in cat_cols:\n",
    "    # Cargar el encoder desde el archivo pickle\n",
    "    encoder_path = os.path.join(encoders_directory, f'{col}.pkl')\n",
    "    with open(encoder_path, 'rb') as file:\n",
    "        encoder = pkl.load(file)\n",
    "        encoders[col] = encoder\n",
    "\n",
    "    # Manejar nuevas categorías: reemplazar con un valor predeterminado (ejemplo: -1)\n",
    "    trips[col] = trips[col].apply(lambda x: encoder.transform([x])[0] if x in encoder.classes_ else -1)\n",
    "\n",
    "# Mostrar el DataFrame 'trips' después de la transformación\n",
    "print(trips)\n",
    "\n",
    "\n"
   ]
  },
  {
   "cell_type": "code",
   "execution_count": null,
   "metadata": {},
   "outputs": [],
   "source": [
    "\n",
    "\n",
    "# Cargar el archivo Excel\n",
    "weights_df = pd.read_excel('Weight_what-if-2.xlsx')\n",
    "\n",
    "# Iterar sobre cada fila del dataframe trips\n",
    "for index, row in trips.iterrows():\n",
    "    # Filtrar el dataframe weights_df para encontrar la fila correspondiente\n",
    "    # donde coinciden los valores de Latitud, Longitud, Latitud_centro y Longitud_centro\n",
    "    filtered_row = weights_df[(weights_df['Latitud'] == row['Latitud']) & \n",
    "                              (weights_df['Longitud'] == row['Longitud']) &\n",
    "                              (weights_df['Latitud_centro'] == row['Latitud_centro']) &\n",
    "                              (weights_df['Longitud_centro'] == row['Longitud_centro'])]\n",
    "    \n",
    "    # Si hay una fila coincidente, actualizar los valores en el dataframe trips\n",
    "    if not filtered_row.empty:\n",
    "        trips.at[index, 'walk_weight'] = filtered_row['walk_weight'].values[0]\n",
    "        trips.at[index, 'transit_weight'] = filtered_row['transit_weight'].values[0]\n",
    "        trips.at[index, 'drive_weight'] = filtered_row['drive_weight'].values[0]\n",
    "\n",
    "print (trips.head().columns)\n"
   ]
  },
  {
   "cell_type": "code",
   "execution_count": 87,
   "metadata": {},
   "outputs": [],
   "source": [
    "trips = trips.reset_index(drop=True)"
   ]
  },
  {
   "cell_type": "code",
   "execution_count": 88,
   "metadata": {},
   "outputs": [],
   "source": [
    "trips = trips.drop(columns=[\"Nombre de la colonia\"],errors='ignore')"
   ]
  },
  {
   "cell_type": "markdown",
   "metadata": {},
   "source": [
    "## Saving"
   ]
  },
  {
   "cell_type": "code",
   "execution_count": 90,
   "metadata": {},
   "outputs": [],
   "source": [
    "trips.to_csv(f\"data/What-if 2_encoded_OK.csv\")\n"
   ]
  }
 ],
 "metadata": {
  "kernelspec": {
   "display_name": "geo",
   "language": "python",
   "name": "python3"
  },
  "language_info": {
   "codemirror_mode": {
    "name": "ipython",
    "version": 3
   },
   "file_extension": ".py",
   "mimetype": "text/x-python",
   "name": "python",
   "nbconvert_exporter": "python",
   "pygments_lexer": "ipython3",
   "version": "3.11.5"
  },
  "orig_nbformat": 4
 },
 "nbformat": 4,
 "nbformat_minor": 2
}
