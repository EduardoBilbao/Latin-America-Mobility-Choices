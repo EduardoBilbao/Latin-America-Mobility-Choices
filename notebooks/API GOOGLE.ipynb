{
 "cells": [
  {
   "cell_type": "code",
   "execution_count": 1,
   "metadata": {},
   "outputs": [],
   "source": [
    "import requests\n",
    "def get_directions(api_key, origin, destination, mode='driving'):\n",
    "    base_url = 'https://maps.googleapis.com/maps/api/directions/json'\n",
    "    params = {\n",
    "        'origin': f\"{origin[0]},{origin[1]}\",\n",
    "        'destination': f\"{destination[0]},{destination[1]}\",\n",
    "        'mode': mode,\n",
    "        'key': api_key,\n",
    "    }\n",
    "\n",
    "    response = requests.get(base_url, params=params)\n",
    "    data = response.json()\n",
    "    print(data,response)\n",
    "    if data['status'] == 'OK':\n",
    "        # Extracting and printing the duration and distance\n",
    "        route = data['routes'][0]['legs'][0]\n",
    "        distance = route['distance']['text']\n",
    "        duration = route['duration']['text']\n",
    "        return distance,duration\n",
    "    else:\n",
    "        print(f\"Error: {data['status']} - {data['error_message']}\")"
   ]
  },
  {
   "cell_type": "code",
   "execution_count": null,
   "metadata": {},
   "outputs": [],
   "source": [
    "import pandas as pd\n",
    "\n",
    "# Ingresar el código API \n",
    "api_key = ''\n",
    "# Cargar el archivo Excel\n",
    "file_path = \"Todos los origenes-destino AMG con tiempos - copia.xlsx\"\n",
    "df = pd.read_excel(file_path)\n",
    "\n",
    "for index, row in df.iterrows():\n",
    "    # Verificar si la columna 'Duracion_walking' está vacía\n",
    "    if pd.isna(row['Duracion_walking']):\n",
    "        origin = (row['Latitud'], row['Longitud'])\n",
    "        destination = (row['Latitud_centro'], row['Longitud_centro'])\n",
    "        # Calcular para caminar\n",
    "        try:\n",
    "            distance_walking, duration_walking = get_directions(api_key, origin, destination, mode='walking')\n",
    "            df.at[index, 'Distancia_walking'] = distance_walking\n",
    "            df.at[index, 'Duracion_walking'] = duration_walking\n",
    "            print(f\"calculating(walking): {index}, {distance_walking}, {duration_walking}\")\n",
    "        except Exception as e:\n",
    "            print(index, e)\n",
    "    \n",
    "    # Guardar el archivo cada 100 iteraciones\n",
    "    if index % 100 == 0:\n",
    "        df.to_excel(\"M_FINAL.xlsx\", index=False)\n",
    "\n",
    "# Guardar el dataframe en un archivo Excel al final del bucle\n",
    "df.to_excel(\"M_FINAL.xlsx\", index=False)\n"
   ]
  },
  {
   "cell_type": "code",
   "execution_count": null,
   "metadata": {},
   "outputs": [],
   "source": [
    "def get_directions(api_key, origin, destination, mode='driving'):\n",
    "    base_url = 'https://maps.googleapis.com/maps/api/directions/json'\n",
    "    params = {'origin': f\"{origin[0]},{origin[1]}\", 'destination': f\"{destination[0]},{destination[1]}\", 'mode': mode, 'key': api_key}\n",
    "    response = requests.get(base_url, params=params)\n",
    "    data = response.json()\n",
    "    if data['status'] == 'OK':\n",
    "        route = data['routes'][0]['legs'][0]\n",
    "        return route['distance']['text'], route['duration']['text']\n",
    "\n",
    "api_key = ''\n",
    "df = pd.read_excel(\"example.xlsx\")\n",
    "for index, row in df.iterrows():\n",
    "    if pd.isna(row['Duracion_car']):\n",
    "        origin = (row['Latitud'], row['Longitud'])\n",
    "        destination = (row['Latitud_centro'], row['Longitud_centro'])\n",
    "        try:\n",
    "            distance_car, duration_car = get_directions(api_key, origin, destination, mode='driving')\n",
    "            df.at[index, 'Distancia_car'] = distance_car\n",
    "            df.at[index, 'Duracion_car'] = duration_car\n",
    "            print(f\"calculating(driving): {index}, {distance_car}, {duration_car}\")\n",
    "        except Exception as e:\n",
    "            print(index, e)\n",
    "df.to_excel(\"FINAL.xlsx\", index=False)\n"
   ]
  }
 ],
 "metadata": {
  "kernelspec": {
   "display_name": "geo",
   "language": "python",
   "name": "python3"
  },
  "language_info": {
   "codemirror_mode": {
    "name": "ipython",
    "version": 3
   },
   "file_extension": ".py",
   "mimetype": "text/x-python",
   "name": "python",
   "nbconvert_exporter": "python",
   "pygments_lexer": "ipython3",
   "version": "3.11.5"
  },
  "orig_nbformat": 4
 },
 "nbformat": 4,
 "nbformat_minor": 2
}
