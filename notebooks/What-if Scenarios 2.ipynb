{
 "cells": [
  {
   "cell_type": "code",
   "execution_count": 1,
   "metadata": {},
   "outputs": [],
   "source": [
    "# Base utilities\n",
    "import os\n",
    "\n",
    "# Data Mining\n",
    "import math\n",
    "import random\n",
    "random_state = 42\n",
    "random.seed(random_state)\n",
    "seed=random_state\n",
    "import numpy as np \n",
    "import pandas as pd\n",
    "import geopandas as gpd\n",
    "import osmnx as ox\n",
    "import pandana as pdn\n",
    "import pickle as pkl\n",
    "\n",
    "# Plot\n",
    "import matplotlib.pyplot as plt\n",
    "import matplotlib.pyplot as plot\n",
    "import seaborn as sns\n",
    "\n",
    "# Learning\n",
    "from sklearn import metrics\n",
    "from sklearn.preprocessing import LabelEncoder\n",
    "from sklearn.preprocessing import MinMaxScaler\n",
    "\n",
    "from sklearn.utils import shuffle\n",
    "from sklearn.model_selection import cross_val_score, train_test_split, KFold\n",
    "\n",
    "# Models\n",
    "from sklearn.model_selection import GridSearchCV\n",
    "from sklearn.neighbors import KNeighborsClassifier\n",
    "from sklearn.svm import SVC \n",
    "from sklearn.ensemble import AdaBoostClassifier, RandomForestClassifier\n",
    "from sklearn.tree import DecisionTreeClassifier\n",
    "\n",
    "# Directories (Si no existen se crean)\n",
    "for d in [\"data\", \"logs\", \"models\", \"networks\"]:\n",
    "    if not os.path.isdir(d):\n",
    "        os.mkdir(d)"
   ]
  },
  {
   "cell_type": "code",
   "execution_count": 2,
   "metadata": {},
   "outputs": [],
   "source": [
    "trips = pd.read_csv(f\"data/Guadalajara_encoded_SEMS + NO SEMS_OK.csv\",index_col=0)\n",
    "trips = trips.drop(columns=['Centro específico','Tiempo origen-destino','Latitud','Longitud','Latitud_centro','Longitud_centro'])\n",
    "\n",
    "#print(trips.head().columns)\n",
    "\n",
    "\n",
    "\n",
    "trips = trips.drop(trips[trips['Modo transporte'] == 'Public Transportation'].sample(42500).index)\n",
    "# Reiniciar los índices\n",
    "trips.reset_index(drop=True, inplace=True)\n",
    "\n",
    "trips = trips.sample(frac=1).reset_index(drop=True)\n",
    "\n"
   ]
  },
  {
   "attachments": {},
   "cell_type": "markdown",
   "metadata": {},
   "source": [
    "# Model Training and Evaluation"
   ]
  },
  {
   "attachments": {},
   "cell_type": "markdown",
   "metadata": {},
   "source": [
    "## Train-Test Split"
   ]
  },
  {
   "cell_type": "code",
   "execution_count": 3,
   "metadata": {},
   "outputs": [],
   "source": [
    "# X = np.array(trips.drop(columns=\"Modo transporte\"))\n",
    "# y = np.array( trips[\"Modo transporte\"] )\n",
    "\n",
    "# X_train, X_test, y_train, y_test = train_test_split(X, y, test_size=0.3, random_state=random_state)"
   ]
  },
  {
   "cell_type": "code",
   "execution_count": 4,
   "metadata": {},
   "outputs": [],
   "source": [
    "# Load the 'what_if_X' dataframe\n",
    "what_if_X = pd.read_csv(\"data/What-if 2_encoded_OK.csv\", sep=',', index_col=0)\n",
    "# Hacer una copia de la columna 'Modo transporte' antes de eliminarla\n",
    "modo_transporte_copia = what_if_X['Modo transporte'].copy()\n",
    "# Eliminar las columnas especificadas\n",
    "what_if_X = what_if_X.drop(columns=['Centro específico','Tiempo origen-destino','Latitud','Longitud','Latitud_centro','Longitud_centro','Modo transporte'])\n",
    "    "
   ]
  },
  {
   "cell_type": "code",
   "execution_count": 5,
   "metadata": {},
   "outputs": [],
   "source": [
    "\n",
    "\n",
    "predicts = pd.DataFrame()"
   ]
  },
  {
   "attachments": {},
   "cell_type": "markdown",
   "metadata": {},
   "source": [
    "## Model Training/Evaluation Framework"
   ]
  },
  {
   "cell_type": "code",
   "execution_count": 6,
   "metadata": {},
   "outputs": [],
   "source": [
    "models = {}\n",
    "\n",
    "def train_evaluate(model, k=10, cross_validation=True):\n",
    "    model_name = type(model).__name__\n",
    "\n",
    "\n",
    "\n",
    "    # Final Model\n",
    "    print(\"\\nFinal Model\\n\")\n",
    "    # Model Training\n",
    "    model = model.fit(X_train, y_train)\n",
    "    print(\"Accuracy: \", model.score(X_test, y_test), \"\\n\")\n",
    "    # Prediction and Report\n",
    "    y_pred = model.predict(X_test)\n",
    "    #print(\"Classification Report\\n\")\n",
    "    #print(metrics.classification_report(y_test, y_pred), \"\\n\")\n",
    "   \n",
    "\n",
    "\n",
    "\n",
    "    # Make predictions on 'what_if_X'\n",
    "    what_if_y_pred = model.predict(what_if_X)\n",
    "\n",
    "\n",
    "    # Suponiendo que what_if_y_pred es tu variable de interés\n",
    "\n",
    "    # Add a new column \"Mobility choice\" to the dataframe with predictions\n",
    "    predicts[\"Mobility choice\"] = what_if_y_pred\n",
    "    print(predicts[\"Mobility choice\"].value_counts())\n",
    "\n",
    " \n",
    "    \n",
    "\n",
    "    # # Save the modified dataframe to a new CSV file\n",
    "    # what_if_X.to_csv(\"data/What-if 1_pred_OK.csv\")"
   ]
  },
  {
   "cell_type": "markdown",
   "metadata": {},
   "source": [
    "Decoded data of the What-if"
   ]
  },
  {
   "attachments": {},
   "cell_type": "markdown",
   "metadata": {},
   "source": [
    "## Model Definition and Evaluation"
   ]
  },
  {
   "attachments": {},
   "cell_type": "markdown",
   "metadata": {},
   "source": [
    "## Random Forest"
   ]
  },
  {
   "cell_type": "code",
   "execution_count": 7,
   "metadata": {},
   "outputs": [
    {
     "name": "stdout",
     "output_type": "stream",
     "text": [
      "\n",
      "Final Model\n",
      "\n",
      "Accuracy:  0.7570799954868555 \n",
      "\n",
      "Walk                     14802\n",
      "Public Transportation     3209\n",
      "Private auto               377\n",
      "Name: Mobility choice, dtype: int64\n"
     ]
    },
    {
     "name": "stderr",
     "output_type": "stream",
     "text": [
      "c:\\Users\\Edu Bilbao\\anaconda3\\Lib\\site-packages\\sklearn\\base.py:457: UserWarning: X has feature names, but RandomForestClassifier was fitted without feature names\n",
      "  warnings.warn(\n"
     ]
    },
    {
     "name": "stdout",
     "output_type": "stream",
     "text": [
      "\n",
      "Final Model\n",
      "\n",
      "Accuracy:  0.7497461356199933 \n",
      "\n"
     ]
    },
    {
     "name": "stderr",
     "output_type": "stream",
     "text": [
      "c:\\Users\\Edu Bilbao\\anaconda3\\Lib\\site-packages\\sklearn\\base.py:457: UserWarning: X has feature names, but RandomForestClassifier was fitted without feature names\n",
      "  warnings.warn(\n"
     ]
    },
    {
     "name": "stdout",
     "output_type": "stream",
     "text": [
      "Walk                     15339\n",
      "Public Transportation     2880\n",
      "Private auto               169\n",
      "Name: Mobility choice, dtype: int64\n",
      "\n",
      "Final Model\n",
      "\n",
      "Accuracy:  0.7602391966602731 \n",
      "\n"
     ]
    },
    {
     "name": "stderr",
     "output_type": "stream",
     "text": [
      "c:\\Users\\Edu Bilbao\\anaconda3\\Lib\\site-packages\\sklearn\\base.py:457: UserWarning: X has feature names, but RandomForestClassifier was fitted without feature names\n",
      "  warnings.warn(\n"
     ]
    },
    {
     "name": "stdout",
     "output_type": "stream",
     "text": [
      "Walk                     15087\n",
      "Public Transportation     3091\n",
      "Private auto               210\n",
      "Name: Mobility choice, dtype: int64\n",
      "\n",
      "Final Model\n",
      "\n",
      "Accuracy:  0.7604648538869457 \n",
      "\n",
      "Walk                     11844\n",
      "Public Transportation     6213\n",
      "Private auto               331\n",
      "Name: Mobility choice, dtype: int64\n"
     ]
    },
    {
     "name": "stderr",
     "output_type": "stream",
     "text": [
      "c:\\Users\\Edu Bilbao\\anaconda3\\Lib\\site-packages\\sklearn\\base.py:457: UserWarning: X has feature names, but RandomForestClassifier was fitted without feature names\n",
      "  warnings.warn(\n"
     ]
    },
    {
     "name": "stdout",
     "output_type": "stream",
     "text": [
      "\n",
      "Final Model\n",
      "\n",
      "Accuracy:  0.7579826243935462 \n",
      "\n",
      "Walk                     14005\n",
      "Public Transportation     3906\n",
      "Private auto               477\n",
      "Name: Mobility choice, dtype: int64\n"
     ]
    },
    {
     "name": "stderr",
     "output_type": "stream",
     "text": [
      "c:\\Users\\Edu Bilbao\\anaconda3\\Lib\\site-packages\\sklearn\\base.py:457: UserWarning: X has feature names, but RandomForestClassifier was fitted without feature names\n",
      "  warnings.warn(\n"
     ]
    },
    {
     "name": "stdout",
     "output_type": "stream",
     "text": [
      "\n",
      "Final Model\n",
      "\n",
      "Accuracy:  0.7450073338598668 \n",
      "\n",
      "Walk                     13498\n",
      "Public Transportation     4474\n",
      "Private auto               416\n",
      "Name: Mobility choice, dtype: int64\n"
     ]
    },
    {
     "name": "stderr",
     "output_type": "stream",
     "text": [
      "c:\\Users\\Edu Bilbao\\anaconda3\\Lib\\site-packages\\sklearn\\base.py:457: UserWarning: X has feature names, but RandomForestClassifier was fitted without feature names\n",
      "  warnings.warn(\n"
     ]
    },
    {
     "name": "stdout",
     "output_type": "stream",
     "text": [
      "\n",
      "Final Model\n",
      "\n",
      "Accuracy:  0.755613223513483 \n",
      "\n",
      "Walk                     15057\n",
      "Public Transportation     2972\n",
      "Private auto               359\n",
      "Name: Mobility choice, dtype: int64\n"
     ]
    },
    {
     "name": "stderr",
     "output_type": "stream",
     "text": [
      "c:\\Users\\Edu Bilbao\\anaconda3\\Lib\\site-packages\\sklearn\\base.py:457: UserWarning: X has feature names, but RandomForestClassifier was fitted without feature names\n",
      "  warnings.warn(\n"
     ]
    },
    {
     "name": "stdout",
     "output_type": "stream",
     "text": [
      "\n",
      "Final Model\n",
      "\n",
      "Accuracy:  0.7609161683402911 \n",
      "\n",
      "Walk                     15192\n",
      "Public Transportation     2883\n",
      "Private auto               313\n",
      "Name: Mobility choice, dtype: int64\n"
     ]
    },
    {
     "name": "stderr",
     "output_type": "stream",
     "text": [
      "c:\\Users\\Edu Bilbao\\anaconda3\\Lib\\site-packages\\sklearn\\base.py:457: UserWarning: X has feature names, but RandomForestClassifier was fitted without feature names\n",
      "  warnings.warn(\n"
     ]
    },
    {
     "name": "stdout",
     "output_type": "stream",
     "text": [
      "\n",
      "Final Model\n",
      "\n",
      "Accuracy:  0.7543721087667833 \n",
      "\n"
     ]
    },
    {
     "name": "stderr",
     "output_type": "stream",
     "text": [
      "c:\\Users\\Edu Bilbao\\anaconda3\\Lib\\site-packages\\sklearn\\base.py:457: UserWarning: X has feature names, but RandomForestClassifier was fitted without feature names\n",
      "  warnings.warn(\n"
     ]
    },
    {
     "name": "stdout",
     "output_type": "stream",
     "text": [
      "Walk                     12029\n",
      "Public Transportation     5947\n",
      "Private auto               412\n",
      "Name: Mobility choice, dtype: int64\n",
      "\n",
      "Final Model\n",
      "\n",
      "Accuracy:  0.7550490804468013 \n",
      "\n",
      "Walk                     13697\n",
      "Public Transportation     4383\n",
      "Private auto               308\n",
      "Name: Mobility choice, dtype: int64\n"
     ]
    },
    {
     "name": "stderr",
     "output_type": "stream",
     "text": [
      "c:\\Users\\Edu Bilbao\\anaconda3\\Lib\\site-packages\\sklearn\\base.py:457: UserWarning: X has feature names, but RandomForestClassifier was fitted without feature names\n",
      "  warnings.warn(\n"
     ]
    },
    {
     "name": "stdout",
     "output_type": "stream",
     "text": [
      "\n",
      "Final Model\n",
      "\n",
      "Accuracy:  0.7576441385535372 \n",
      "\n"
     ]
    },
    {
     "name": "stderr",
     "output_type": "stream",
     "text": [
      "c:\\Users\\Edu Bilbao\\anaconda3\\Lib\\site-packages\\sklearn\\base.py:457: UserWarning: X has feature names, but RandomForestClassifier was fitted without feature names\n",
      "  warnings.warn(\n"
     ]
    },
    {
     "name": "stdout",
     "output_type": "stream",
     "text": [
      "Walk                     13729\n",
      "Public Transportation     4407\n",
      "Private auto               252\n",
      "Name: Mobility choice, dtype: int64\n",
      "\n",
      "Final Model\n",
      "\n",
      "Accuracy:  0.7430892474331491 \n",
      "\n",
      "Walk                     15771\n",
      "Public Transportation     2470\n",
      "Private auto               147\n",
      "Name: Mobility choice, dtype: int64\n"
     ]
    },
    {
     "name": "stderr",
     "output_type": "stream",
     "text": [
      "c:\\Users\\Edu Bilbao\\anaconda3\\Lib\\site-packages\\sklearn\\base.py:457: UserWarning: X has feature names, but RandomForestClassifier was fitted without feature names\n",
      "  warnings.warn(\n"
     ]
    },
    {
     "name": "stdout",
     "output_type": "stream",
     "text": [
      "\n",
      "Final Model\n",
      "\n",
      "Accuracy:  0.7565158524201737 \n",
      "\n"
     ]
    },
    {
     "name": "stderr",
     "output_type": "stream",
     "text": [
      "c:\\Users\\Edu Bilbao\\anaconda3\\Lib\\site-packages\\sklearn\\base.py:457: UserWarning: X has feature names, but RandomForestClassifier was fitted without feature names\n",
      "  warnings.warn(\n"
     ]
    },
    {
     "name": "stdout",
     "output_type": "stream",
     "text": [
      "Walk                     13691\n",
      "Public Transportation     4389\n",
      "Private auto               308\n",
      "Name: Mobility choice, dtype: int64\n",
      "\n",
      "Final Model\n",
      "\n",
      "Accuracy:  0.7570799954868555 \n",
      "\n",
      "Walk                     13290\n",
      "Public Transportation     4722\n",
      "Private auto               376\n",
      "Name: Mobility choice, dtype: int64\n"
     ]
    },
    {
     "name": "stderr",
     "output_type": "stream",
     "text": [
      "c:\\Users\\Edu Bilbao\\anaconda3\\Lib\\site-packages\\sklearn\\base.py:457: UserWarning: X has feature names, but RandomForestClassifier was fitted without feature names\n",
      "  warnings.warn(\n"
     ]
    },
    {
     "name": "stdout",
     "output_type": "stream",
     "text": [
      "\n",
      "Final Model\n",
      "\n",
      "Accuracy:  0.7596750535935913 \n",
      "\n"
     ]
    },
    {
     "name": "stderr",
     "output_type": "stream",
     "text": [
      "c:\\Users\\Edu Bilbao\\anaconda3\\Lib\\site-packages\\sklearn\\base.py:457: UserWarning: X has feature names, but RandomForestClassifier was fitted without feature names\n",
      "  warnings.warn(\n"
     ]
    },
    {
     "name": "stdout",
     "output_type": "stream",
     "text": [
      "Walk                     12514\n",
      "Public Transportation     5588\n",
      "Private auto               286\n",
      "Name: Mobility choice, dtype: int64\n",
      "\n",
      "Final Model\n",
      "\n",
      "Accuracy:  0.7561773665801648 \n",
      "\n",
      "Walk                     14426\n",
      "Public Transportation     3591\n",
      "Private auto               371\n",
      "Name: Mobility choice, dtype: int64\n"
     ]
    },
    {
     "name": "stderr",
     "output_type": "stream",
     "text": [
      "c:\\Users\\Edu Bilbao\\anaconda3\\Lib\\site-packages\\sklearn\\base.py:457: UserWarning: X has feature names, but RandomForestClassifier was fitted without feature names\n",
      "  warnings.warn(\n"
     ]
    },
    {
     "name": "stdout",
     "output_type": "stream",
     "text": [
      "\n",
      "Final Model\n",
      "\n",
      "Accuracy:  0.7570799954868555 \n",
      "\n"
     ]
    },
    {
     "name": "stderr",
     "output_type": "stream",
     "text": [
      "c:\\Users\\Edu Bilbao\\anaconda3\\Lib\\site-packages\\sklearn\\base.py:457: UserWarning: X has feature names, but RandomForestClassifier was fitted without feature names\n",
      "  warnings.warn(\n"
     ]
    },
    {
     "name": "stdout",
     "output_type": "stream",
     "text": [
      "Walk                     14883\n",
      "Public Transportation     3264\n",
      "Private auto               241\n",
      "Name: Mobility choice, dtype: int64\n",
      "\n",
      "Final Model\n",
      "\n",
      "Accuracy:  0.7550490804468013 \n",
      "\n",
      "Walk                     12104\n",
      "Public Transportation     5820\n",
      "Private auto               464\n",
      "Name: Mobility choice, dtype: int64\n"
     ]
    },
    {
     "name": "stderr",
     "output_type": "stream",
     "text": [
      "c:\\Users\\Edu Bilbao\\anaconda3\\Lib\\site-packages\\sklearn\\base.py:457: UserWarning: X has feature names, but RandomForestClassifier was fitted without feature names\n",
      "  warnings.warn(\n"
     ]
    },
    {
     "name": "stdout",
     "output_type": "stream",
     "text": [
      "\n",
      "Final Model\n",
      "\n",
      "Accuracy:  0.7587724246869006 \n",
      "\n"
     ]
    },
    {
     "name": "stderr",
     "output_type": "stream",
     "text": [
      "c:\\Users\\Edu Bilbao\\anaconda3\\Lib\\site-packages\\sklearn\\base.py:457: UserWarning: X has feature names, but RandomForestClassifier was fitted without feature names\n",
      "  warnings.warn(\n"
     ]
    },
    {
     "name": "stdout",
     "output_type": "stream",
     "text": [
      "Walk                     13448\n",
      "Public Transportation     4597\n",
      "Private auto               343\n",
      "Name: Mobility choice, dtype: int64\n",
      "\n",
      "Final Model\n",
      "\n",
      "Accuracy:  0.7571928241001918 \n",
      "\n",
      "Walk                     15561\n",
      "Public Transportation     2736\n",
      "Private auto                91\n",
      "Name: Mobility choice, dtype: int64\n"
     ]
    },
    {
     "name": "stderr",
     "output_type": "stream",
     "text": [
      "c:\\Users\\Edu Bilbao\\anaconda3\\Lib\\site-packages\\sklearn\\base.py:457: UserWarning: X has feature names, but RandomForestClassifier was fitted without feature names\n",
      "  warnings.warn(\n"
     ]
    },
    {
     "name": "stdout",
     "output_type": "stream",
     "text": [
      "\n",
      "Final Model\n",
      "\n",
      "Accuracy:  0.7566286810335101 \n",
      "\n",
      "Walk                     14569\n",
      "Public Transportation     3541\n",
      "Private auto               278\n",
      "Name: Mobility choice, dtype: int64\n"
     ]
    },
    {
     "name": "stderr",
     "output_type": "stream",
     "text": [
      "c:\\Users\\Edu Bilbao\\anaconda3\\Lib\\site-packages\\sklearn\\base.py:457: UserWarning: X has feature names, but RandomForestClassifier was fitted without feature names\n",
      "  warnings.warn(\n"
     ]
    },
    {
     "name": "stdout",
     "output_type": "stream",
     "text": [
      "\n",
      "Final Model\n",
      "\n",
      "Accuracy:  0.7548234232201286 \n",
      "\n",
      "Walk                     14461\n",
      "Public Transportation     3688\n",
      "Private auto               239\n",
      "Name: Mobility choice, dtype: int64\n"
     ]
    },
    {
     "name": "stderr",
     "output_type": "stream",
     "text": [
      "c:\\Users\\Edu Bilbao\\anaconda3\\Lib\\site-packages\\sklearn\\base.py:457: UserWarning: X has feature names, but RandomForestClassifier was fitted without feature names\n",
      "  warnings.warn(\n"
     ]
    },
    {
     "name": "stdout",
     "output_type": "stream",
     "text": [
      "\n",
      "Final Model\n",
      "\n",
      "Accuracy:  0.7620444544736545 \n",
      "\n"
     ]
    },
    {
     "name": "stderr",
     "output_type": "stream",
     "text": [
      "c:\\Users\\Edu Bilbao\\anaconda3\\Lib\\site-packages\\sklearn\\base.py:457: UserWarning: X has feature names, but RandomForestClassifier was fitted without feature names\n",
      "  warnings.warn(\n"
     ]
    },
    {
     "name": "stdout",
     "output_type": "stream",
     "text": [
      "Walk                     14922\n",
      "Public Transportation     3115\n",
      "Private auto               351\n",
      "Name: Mobility choice, dtype: int64\n",
      "\n",
      "Final Model\n",
      "\n",
      "Accuracy:  0.7627214261536726 \n",
      "\n",
      "Walk                     12535\n",
      "Public Transportation     5498\n",
      "Private auto               355\n",
      "Name: Mobility choice, dtype: int64\n"
     ]
    },
    {
     "name": "stderr",
     "output_type": "stream",
     "text": [
      "c:\\Users\\Edu Bilbao\\anaconda3\\Lib\\site-packages\\sklearn\\base.py:457: UserWarning: X has feature names, but RandomForestClassifier was fitted without feature names\n",
      "  warnings.warn(\n"
     ]
    },
    {
     "name": "stdout",
     "output_type": "stream",
     "text": [
      "\n",
      "Final Model\n",
      "\n",
      "Accuracy:  0.7584339388468916 \n",
      "\n"
     ]
    },
    {
     "name": "stderr",
     "output_type": "stream",
     "text": [
      "c:\\Users\\Edu Bilbao\\anaconda3\\Lib\\site-packages\\sklearn\\base.py:457: UserWarning: X has feature names, but RandomForestClassifier was fitted without feature names\n",
      "  warnings.warn(\n"
     ]
    },
    {
     "name": "stdout",
     "output_type": "stream",
     "text": [
      "Walk                     15513\n",
      "Public Transportation     2549\n",
      "Private auto               326\n",
      "Name: Mobility choice, dtype: int64\n",
      "\n",
      "Final Model\n",
      "\n",
      "Accuracy:  0.7543721087667833 \n",
      "\n",
      "Walk                     13814\n",
      "Public Transportation     4186\n",
      "Private auto               388\n",
      "Name: Mobility choice, dtype: int64\n"
     ]
    },
    {
     "name": "stderr",
     "output_type": "stream",
     "text": [
      "c:\\Users\\Edu Bilbao\\anaconda3\\Lib\\site-packages\\sklearn\\base.py:457: UserWarning: X has feature names, but RandomForestClassifier was fitted without feature names\n",
      "  warnings.warn(\n"
     ]
    },
    {
     "name": "stdout",
     "output_type": "stream",
     "text": [
      "\n",
      "Final Model\n",
      "\n",
      "Accuracy:  0.7619316258603182 \n",
      "\n",
      "Walk                     13847\n",
      "Public Transportation     4210\n",
      "Private auto               331\n",
      "Name: Mobility choice, dtype: int64\n"
     ]
    },
    {
     "name": "stderr",
     "output_type": "stream",
     "text": [
      "c:\\Users\\Edu Bilbao\\anaconda3\\Lib\\site-packages\\sklearn\\base.py:457: UserWarning: X has feature names, but RandomForestClassifier was fitted without feature names\n",
      "  warnings.warn(\n"
     ]
    },
    {
     "name": "stdout",
     "output_type": "stream",
     "text": [
      "\n",
      "Final Model\n",
      "\n",
      "Accuracy:  0.7567415096468464 \n",
      "\n",
      "Walk                     12018\n",
      "Public Transportation     5957\n",
      "Private auto               413\n",
      "Name: Mobility choice, dtype: int64\n"
     ]
    },
    {
     "name": "stderr",
     "output_type": "stream",
     "text": [
      "c:\\Users\\Edu Bilbao\\anaconda3\\Lib\\site-packages\\sklearn\\base.py:457: UserWarning: X has feature names, but RandomForestClassifier was fitted without feature names\n",
      "  warnings.warn(\n"
     ]
    },
    {
     "name": "stdout",
     "output_type": "stream",
     "text": [
      "\n",
      "Final Model\n",
      "\n",
      "Accuracy:  0.7518898792733837 \n",
      "\n"
     ]
    },
    {
     "name": "stderr",
     "output_type": "stream",
     "text": [
      "c:\\Users\\Edu Bilbao\\anaconda3\\Lib\\site-packages\\sklearn\\base.py:457: UserWarning: X has feature names, but RandomForestClassifier was fitted without feature names\n",
      "  warnings.warn(\n"
     ]
    },
    {
     "name": "stdout",
     "output_type": "stream",
     "text": [
      "Walk                     12616\n",
      "Public Transportation     5449\n",
      "Private auto               323\n",
      "Name: Mobility choice, dtype: int64\n",
      "\n",
      "Final Model\n",
      "\n",
      "Accuracy:  0.7496333070066569 \n",
      "\n"
     ]
    },
    {
     "name": "stderr",
     "output_type": "stream",
     "text": [
      "c:\\Users\\Edu Bilbao\\anaconda3\\Lib\\site-packages\\sklearn\\base.py:457: UserWarning: X has feature names, but RandomForestClassifier was fitted without feature names\n",
      "  warnings.warn(\n"
     ]
    },
    {
     "name": "stdout",
     "output_type": "stream",
     "text": [
      "Walk                     13908\n",
      "Public Transportation     4154\n",
      "Private auto               326\n",
      "Name: Mobility choice, dtype: int64\n",
      "\n",
      "Final Model\n",
      "\n",
      "Accuracy:  0.7673473993004626 \n",
      "\n"
     ]
    },
    {
     "name": "stderr",
     "output_type": "stream",
     "text": [
      "c:\\Users\\Edu Bilbao\\anaconda3\\Lib\\site-packages\\sklearn\\base.py:457: UserWarning: X has feature names, but RandomForestClassifier was fitted without feature names\n",
      "  warnings.warn(\n"
     ]
    },
    {
     "name": "stdout",
     "output_type": "stream",
     "text": [
      "Walk                     14265\n",
      "Public Transportation     3657\n",
      "Private auto               466\n",
      "Name: Mobility choice, dtype: int64\n",
      "\n",
      "Final Model\n",
      "\n",
      "Accuracy:  0.7541464515401106 \n",
      "\n",
      "Walk                     12402\n",
      "Public Transportation     5842\n",
      "Private auto               144\n",
      "Name: Mobility choice, dtype: int64\n"
     ]
    },
    {
     "name": "stderr",
     "output_type": "stream",
     "text": [
      "c:\\Users\\Edu Bilbao\\anaconda3\\Lib\\site-packages\\sklearn\\base.py:457: UserWarning: X has feature names, but RandomForestClassifier was fitted without feature names\n",
      "  warnings.warn(\n"
     ]
    },
    {
     "name": "stdout",
     "output_type": "stream",
     "text": [
      "\n",
      "Final Model\n",
      "\n",
      "Accuracy:  0.7477152205799391 \n",
      "\n"
     ]
    },
    {
     "name": "stderr",
     "output_type": "stream",
     "text": [
      "c:\\Users\\Edu Bilbao\\anaconda3\\Lib\\site-packages\\sklearn\\base.py:457: UserWarning: X has feature names, but RandomForestClassifier was fitted without feature names\n",
      "  warnings.warn(\n"
     ]
    },
    {
     "name": "stdout",
     "output_type": "stream",
     "text": [
      "Walk                     13027\n",
      "Public Transportation     5003\n",
      "Private auto               358\n",
      "Name: Mobility choice, dtype: int64\n",
      "\n",
      "Final Model\n",
      "\n",
      "Accuracy:  0.7512129075933657 \n",
      "\n"
     ]
    },
    {
     "name": "stderr",
     "output_type": "stream",
     "text": [
      "c:\\Users\\Edu Bilbao\\anaconda3\\Lib\\site-packages\\sklearn\\base.py:457: UserWarning: X has feature names, but RandomForestClassifier was fitted without feature names\n",
      "  warnings.warn(\n"
     ]
    },
    {
     "name": "stdout",
     "output_type": "stream",
     "text": [
      "Walk                     12394\n",
      "Public Transportation     5832\n",
      "Private auto               162\n",
      "Name: Mobility choice, dtype: int64\n",
      "\n",
      "Final Model\n",
      "\n",
      "Accuracy:  0.7506487645266839 \n",
      "\n"
     ]
    },
    {
     "name": "stderr",
     "output_type": "stream",
     "text": [
      "c:\\Users\\Edu Bilbao\\anaconda3\\Lib\\site-packages\\sklearn\\base.py:457: UserWarning: X has feature names, but RandomForestClassifier was fitted without feature names\n",
      "  warnings.warn(\n"
     ]
    },
    {
     "name": "stdout",
     "output_type": "stream",
     "text": [
      "Walk                     15489\n",
      "Public Transportation     2620\n",
      "Private auto               279\n",
      "Name: Mobility choice, dtype: int64\n",
      "\n",
      "Final Model\n",
      "\n",
      "Accuracy:  0.7587724246869006 \n",
      "\n",
      "Walk                     13624\n",
      "Public Transportation     4334\n",
      "Private auto               430\n",
      "Name: Mobility choice, dtype: int64\n"
     ]
    },
    {
     "name": "stderr",
     "output_type": "stream",
     "text": [
      "c:\\Users\\Edu Bilbao\\anaconda3\\Lib\\site-packages\\sklearn\\base.py:457: UserWarning: X has feature names, but RandomForestClassifier was fitted without feature names\n",
      "  warnings.warn(\n"
     ]
    },
    {
     "name": "stdout",
     "output_type": "stream",
     "text": [
      "\n",
      "Final Model\n",
      "\n",
      "Accuracy:  0.7627214261536726 \n",
      "\n"
     ]
    },
    {
     "name": "stderr",
     "output_type": "stream",
     "text": [
      "c:\\Users\\Edu Bilbao\\anaconda3\\Lib\\site-packages\\sklearn\\base.py:457: UserWarning: X has feature names, but RandomForestClassifier was fitted without feature names\n",
      "  warnings.warn(\n"
     ]
    },
    {
     "name": "stdout",
     "output_type": "stream",
     "text": [
      "Walk                     15133\n",
      "Public Transportation     2846\n",
      "Private auto               409\n",
      "Name: Mobility choice, dtype: int64\n",
      "\n",
      "Final Model\n",
      "\n",
      "Accuracy:  0.7558388807401557 \n",
      "\n",
      "Walk                     12820\n",
      "Public Transportation     5282\n",
      "Private auto               286\n",
      "Name: Mobility choice, dtype: int64\n"
     ]
    },
    {
     "name": "stderr",
     "output_type": "stream",
     "text": [
      "c:\\Users\\Edu Bilbao\\anaconda3\\Lib\\site-packages\\sklearn\\base.py:457: UserWarning: X has feature names, but RandomForestClassifier was fitted without feature names\n",
      "  warnings.warn(\n"
     ]
    },
    {
     "name": "stdout",
     "output_type": "stream",
     "text": [
      "\n",
      "Final Model\n",
      "\n",
      "Accuracy:  0.7558388807401557 \n",
      "\n"
     ]
    },
    {
     "name": "stderr",
     "output_type": "stream",
     "text": [
      "c:\\Users\\Edu Bilbao\\anaconda3\\Lib\\site-packages\\sklearn\\base.py:457: UserWarning: X has feature names, but RandomForestClassifier was fitted without feature names\n",
      "  warnings.warn(\n"
     ]
    },
    {
     "name": "stdout",
     "output_type": "stream",
     "text": [
      "Walk                     13363\n",
      "Public Transportation     4902\n",
      "Private auto               123\n",
      "Name: Mobility choice, dtype: int64\n",
      "\n",
      "Final Model\n",
      "\n",
      "Accuracy:  0.7553875662868104 \n",
      "\n",
      "Walk                     13641\n",
      "Public Transportation     4413\n",
      "Private auto               334\n",
      "Name: Mobility choice, dtype: int64\n"
     ]
    },
    {
     "name": "stderr",
     "output_type": "stream",
     "text": [
      "c:\\Users\\Edu Bilbao\\anaconda3\\Lib\\site-packages\\sklearn\\base.py:457: UserWarning: X has feature names, but RandomForestClassifier was fitted without feature names\n",
      "  warnings.warn(\n"
     ]
    },
    {
     "name": "stdout",
     "output_type": "stream",
     "text": [
      "\n",
      "Final Model\n",
      "\n",
      "Accuracy:  0.7646395125803904 \n",
      "\n"
     ]
    },
    {
     "name": "stderr",
     "output_type": "stream",
     "text": [
      "c:\\Users\\Edu Bilbao\\anaconda3\\Lib\\site-packages\\sklearn\\base.py:457: UserWarning: X has feature names, but RandomForestClassifier was fitted without feature names\n",
      "  warnings.warn(\n"
     ]
    },
    {
     "name": "stdout",
     "output_type": "stream",
     "text": [
      "Walk                     14157\n",
      "Public Transportation     3800\n",
      "Private auto               431\n",
      "Name: Mobility choice, dtype: int64\n",
      "\n",
      "Final Model\n",
      "\n",
      "Accuracy:  0.7560645379668284 \n",
      "\n",
      "Walk                     13489\n",
      "Public Transportation     4691\n",
      "Private auto               208\n",
      "Name: Mobility choice, dtype: int64\n"
     ]
    },
    {
     "name": "stderr",
     "output_type": "stream",
     "text": [
      "c:\\Users\\Edu Bilbao\\anaconda3\\Lib\\site-packages\\sklearn\\base.py:457: UserWarning: X has feature names, but RandomForestClassifier was fitted without feature names\n",
      "  warnings.warn(\n"
     ]
    },
    {
     "name": "stdout",
     "output_type": "stream",
     "text": [
      "\n",
      "Final Model\n",
      "\n",
      "Accuracy:  0.7619316258603182 \n",
      "\n",
      "Walk                     13092\n",
      "Public Transportation     4854\n",
      "Private auto               442\n",
      "Name: Mobility choice, dtype: int64\n"
     ]
    },
    {
     "name": "stderr",
     "output_type": "stream",
     "text": [
      "c:\\Users\\Edu Bilbao\\anaconda3\\Lib\\site-packages\\sklearn\\base.py:457: UserWarning: X has feature names, but RandomForestClassifier was fitted without feature names\n",
      "  warnings.warn(\n"
     ]
    },
    {
     "name": "stdout",
     "output_type": "stream",
     "text": [
      "\n",
      "Final Model\n",
      "\n",
      "Accuracy:  0.759900710820264 \n",
      "\n",
      "Walk                     15452\n",
      "Public Transportation     2521\n",
      "Private auto               415\n",
      "Name: Mobility choice, dtype: int64\n"
     ]
    },
    {
     "name": "stderr",
     "output_type": "stream",
     "text": [
      "c:\\Users\\Edu Bilbao\\anaconda3\\Lib\\site-packages\\sklearn\\base.py:457: UserWarning: X has feature names, but RandomForestClassifier was fitted without feature names\n",
      "  warnings.warn(\n"
     ]
    },
    {
     "name": "stdout",
     "output_type": "stream",
     "text": [
      "\n",
      "Final Model\n",
      "\n",
      "Accuracy:  0.755613223513483 \n",
      "\n"
     ]
    },
    {
     "name": "stderr",
     "output_type": "stream",
     "text": [
      "c:\\Users\\Edu Bilbao\\anaconda3\\Lib\\site-packages\\sklearn\\base.py:457: UserWarning: X has feature names, but RandomForestClassifier was fitted without feature names\n",
      "  warnings.warn(\n"
     ]
    },
    {
     "name": "stdout",
     "output_type": "stream",
     "text": [
      "Walk                     14236\n",
      "Public Transportation     3889\n",
      "Private auto               263\n",
      "Name: Mobility choice, dtype: int64\n",
      "\n",
      "Final Model\n",
      "\n",
      "Accuracy:  0.7526796795667381 \n",
      "\n"
     ]
    },
    {
     "name": "stderr",
     "output_type": "stream",
     "text": [
      "c:\\Users\\Edu Bilbao\\anaconda3\\Lib\\site-packages\\sklearn\\base.py:457: UserWarning: X has feature names, but RandomForestClassifier was fitted without feature names\n",
      "  warnings.warn(\n"
     ]
    },
    {
     "name": "stdout",
     "output_type": "stream",
     "text": [
      "Walk                     14282\n",
      "Public Transportation     3871\n",
      "Private auto               235\n",
      "Name: Mobility choice, dtype: int64\n",
      "\n",
      "Final Model\n",
      "\n",
      "Accuracy:  0.754597765993456 \n",
      "\n"
     ]
    },
    {
     "name": "stderr",
     "output_type": "stream",
     "text": [
      "c:\\Users\\Edu Bilbao\\anaconda3\\Lib\\site-packages\\sklearn\\base.py:457: UserWarning: X has feature names, but RandomForestClassifier was fitted without feature names\n",
      "  warnings.warn(\n"
     ]
    },
    {
     "name": "stdout",
     "output_type": "stream",
     "text": [
      "Walk                     12214\n",
      "Public Transportation     5741\n",
      "Private auto               433\n",
      "Name: Mobility choice, dtype: int64\n",
      "\n",
      "Final Model\n",
      "\n",
      "Accuracy:  0.7608033397269548 \n",
      "\n",
      "Walk                     13516\n",
      "Public Transportation     4543\n",
      "Private auto               329\n",
      "Name: Mobility choice, dtype: int64\n"
     ]
    },
    {
     "name": "stderr",
     "output_type": "stream",
     "text": [
      "c:\\Users\\Edu Bilbao\\anaconda3\\Lib\\site-packages\\sklearn\\base.py:457: UserWarning: X has feature names, but RandomForestClassifier was fitted without feature names\n",
      "  warnings.warn(\n"
     ]
    },
    {
     "name": "stdout",
     "output_type": "stream",
     "text": [
      "\n",
      "Final Model\n",
      "\n",
      "Accuracy:  0.7578697957802099 \n",
      "\n"
     ]
    },
    {
     "name": "stderr",
     "output_type": "stream",
     "text": [
      "c:\\Users\\Edu Bilbao\\anaconda3\\Lib\\site-packages\\sklearn\\base.py:457: UserWarning: X has feature names, but RandomForestClassifier was fitted without feature names\n",
      "  warnings.warn(\n"
     ]
    },
    {
     "name": "stdout",
     "output_type": "stream",
     "text": [
      "Walk                     14355\n",
      "Public Transportation     3541\n",
      "Private auto               492\n",
      "Name: Mobility choice, dtype: int64\n",
      "\n",
      "Final Model\n",
      "\n",
      "Accuracy:  0.7518898792733837 \n",
      "\n",
      "Walk                     15132\n",
      "Public Transportation     2986\n",
      "Private auto               270\n",
      "Name: Mobility choice, dtype: int64\n"
     ]
    },
    {
     "name": "stderr",
     "output_type": "stream",
     "text": [
      "c:\\Users\\Edu Bilbao\\anaconda3\\Lib\\site-packages\\sklearn\\base.py:457: UserWarning: X has feature names, but RandomForestClassifier was fitted without feature names\n",
      "  warnings.warn(\n"
     ]
    },
    {
     "name": "stdout",
     "output_type": "stream",
     "text": [
      "\n",
      "Final Model\n",
      "\n",
      "Accuracy:  0.7518898792733837 \n",
      "\n",
      "Walk                     14185\n",
      "Public Transportation     3849\n",
      "Private auto               354\n",
      "Name: Mobility choice, dtype: int64\n"
     ]
    },
    {
     "name": "stderr",
     "output_type": "stream",
     "text": [
      "c:\\Users\\Edu Bilbao\\anaconda3\\Lib\\site-packages\\sklearn\\base.py:457: UserWarning: X has feature names, but RandomForestClassifier was fitted without feature names\n",
      "  warnings.warn(\n"
     ]
    },
    {
     "name": "stdout",
     "output_type": "stream",
     "text": [
      "\n",
      "Final Model\n",
      "\n",
      "Accuracy:  0.7541464515401106 \n",
      "\n",
      "Walk                     13561\n",
      "Public Transportation     4515\n",
      "Private auto               312\n",
      "Name: Mobility choice, dtype: int64\n"
     ]
    },
    {
     "name": "stderr",
     "output_type": "stream",
     "text": [
      "c:\\Users\\Edu Bilbao\\anaconda3\\Lib\\site-packages\\sklearn\\base.py:457: UserWarning: X has feature names, but RandomForestClassifier was fitted without feature names\n",
      "  warnings.warn(\n"
     ]
    },
    {
     "name": "stdout",
     "output_type": "stream",
     "text": [
      "\n",
      "Final Model\n",
      "\n",
      "Accuracy:  0.7544849373801196 \n",
      "\n"
     ]
    },
    {
     "name": "stderr",
     "output_type": "stream",
     "text": [
      "c:\\Users\\Edu Bilbao\\anaconda3\\Lib\\site-packages\\sklearn\\base.py:457: UserWarning: X has feature names, but RandomForestClassifier was fitted without feature names\n",
      "  warnings.warn(\n"
     ]
    },
    {
     "name": "stdout",
     "output_type": "stream",
     "text": [
      "Walk                     14661\n",
      "Public Transportation     3344\n",
      "Private auto               383\n",
      "Name: Mobility choice, dtype: int64\n",
      "\n",
      "Final Model\n",
      "\n",
      "Accuracy:  0.7571928241001918 \n",
      "\n"
     ]
    },
    {
     "name": "stderr",
     "output_type": "stream",
     "text": [
      "c:\\Users\\Edu Bilbao\\anaconda3\\Lib\\site-packages\\sklearn\\base.py:457: UserWarning: X has feature names, but RandomForestClassifier was fitted without feature names\n",
      "  warnings.warn(\n"
     ]
    },
    {
     "name": "stdout",
     "output_type": "stream",
     "text": [
      "Walk                     15482\n",
      "Public Transportation     2748\n",
      "Private auto               158\n",
      "Name: Mobility choice, dtype: int64\n",
      "\n",
      "Final Model\n",
      "\n",
      "Accuracy:  0.7627214261536726 \n",
      "\n",
      "Walk                     13659\n",
      "Public Transportation     4418\n",
      "Private auto               311\n",
      "Name: Mobility choice, dtype: int64\n"
     ]
    },
    {
     "name": "stderr",
     "output_type": "stream",
     "text": [
      "c:\\Users\\Edu Bilbao\\anaconda3\\Lib\\site-packages\\sklearn\\base.py:457: UserWarning: X has feature names, but RandomForestClassifier was fitted without feature names\n",
      "  warnings.warn(\n"
     ]
    },
    {
     "name": "stdout",
     "output_type": "stream",
     "text": [
      "\n",
      "Final Model\n",
      "\n",
      "Accuracy:  0.7492948211666478 \n",
      "\n"
     ]
    },
    {
     "name": "stderr",
     "output_type": "stream",
     "text": [
      "c:\\Users\\Edu Bilbao\\anaconda3\\Lib\\site-packages\\sklearn\\base.py:457: UserWarning: X has feature names, but RandomForestClassifier was fitted without feature names\n",
      "  warnings.warn(\n"
     ]
    },
    {
     "name": "stdout",
     "output_type": "stream",
     "text": [
      "Walk                     14044\n",
      "Public Transportation     3742\n",
      "Private auto               602\n",
      "Name: Mobility choice, dtype: int64\n",
      "\n",
      "Final Model\n",
      "\n",
      "Accuracy:  0.755613223513483 \n",
      "\n",
      "Walk                     12566\n",
      "Public Transportation     5241\n",
      "Private auto               581\n",
      "Name: Mobility choice, dtype: int64\n"
     ]
    },
    {
     "name": "stderr",
     "output_type": "stream",
     "text": [
      "c:\\Users\\Edu Bilbao\\anaconda3\\Lib\\site-packages\\sklearn\\base.py:457: UserWarning: X has feature names, but RandomForestClassifier was fitted without feature names\n",
      "  warnings.warn(\n"
     ]
    },
    {
     "name": "stdout",
     "output_type": "stream",
     "text": [
      "\n",
      "Final Model\n",
      "\n",
      "Accuracy:  0.7606905111136184 \n",
      "\n"
     ]
    },
    {
     "name": "stderr",
     "output_type": "stream",
     "text": [
      "c:\\Users\\Edu Bilbao\\anaconda3\\Lib\\site-packages\\sklearn\\base.py:457: UserWarning: X has feature names, but RandomForestClassifier was fitted without feature names\n",
      "  warnings.warn(\n"
     ]
    },
    {
     "name": "stdout",
     "output_type": "stream",
     "text": [
      "Walk                     14489\n",
      "Public Transportation     3440\n",
      "Private auto               459\n",
      "Name: Mobility choice, dtype: int64\n",
      "\n",
      "Final Model\n",
      "\n",
      "Accuracy:  0.7536951370867652 \n",
      "\n",
      "Walk                     14696\n",
      "Public Transportation     3374\n",
      "Private auto               318\n",
      "Name: Mobility choice, dtype: int64\n"
     ]
    },
    {
     "name": "stderr",
     "output_type": "stream",
     "text": [
      "c:\\Users\\Edu Bilbao\\anaconda3\\Lib\\site-packages\\sklearn\\base.py:457: UserWarning: X has feature names, but RandomForestClassifier was fitted without feature names\n",
      "  warnings.warn(\n"
     ]
    },
    {
     "name": "stdout",
     "output_type": "stream",
     "text": [
      "\n",
      "Final Model\n",
      "\n",
      "Accuracy:  0.7507615931400203 \n",
      "\n",
      "Walk                     13517\n",
      "Public Transportation     4482\n",
      "Private auto               389\n",
      "Name: Mobility choice, dtype: int64\n"
     ]
    },
    {
     "name": "stderr",
     "output_type": "stream",
     "text": [
      "c:\\Users\\Edu Bilbao\\anaconda3\\Lib\\site-packages\\sklearn\\base.py:457: UserWarning: X has feature names, but RandomForestClassifier was fitted without feature names\n",
      "  warnings.warn(\n"
     ]
    },
    {
     "name": "stdout",
     "output_type": "stream",
     "text": [
      "\n",
      "Final Model\n",
      "\n",
      "Accuracy:  0.7561773665801648 \n",
      "\n"
     ]
    },
    {
     "name": "stderr",
     "output_type": "stream",
     "text": [
      "c:\\Users\\Edu Bilbao\\anaconda3\\Lib\\site-packages\\sklearn\\base.py:457: UserWarning: X has feature names, but RandomForestClassifier was fitted without feature names\n",
      "  warnings.warn(\n"
     ]
    },
    {
     "name": "stdout",
     "output_type": "stream",
     "text": [
      "Walk                     14429\n",
      "Public Transportation     3514\n",
      "Private auto               445\n",
      "Name: Mobility choice, dtype: int64\n",
      "\n",
      "Final Model\n",
      "\n",
      "Accuracy:  0.7586595960735643 \n",
      "\n"
     ]
    },
    {
     "name": "stderr",
     "output_type": "stream",
     "text": [
      "c:\\Users\\Edu Bilbao\\anaconda3\\Lib\\site-packages\\sklearn\\base.py:457: UserWarning: X has feature names, but RandomForestClassifier was fitted without feature names\n",
      "  warnings.warn(\n"
     ]
    },
    {
     "name": "stdout",
     "output_type": "stream",
     "text": [
      "Walk                     14123\n",
      "Public Transportation     4065\n",
      "Private auto               200\n",
      "Name: Mobility choice, dtype: int64\n",
      "\n",
      "Final Model\n",
      "\n",
      "Accuracy:  0.7565158524201737 \n",
      "\n",
      "Walk                     12061\n",
      "Public Transportation     6006\n",
      "Private auto               321\n",
      "Name: Mobility choice, dtype: int64\n"
     ]
    },
    {
     "name": "stderr",
     "output_type": "stream",
     "text": [
      "c:\\Users\\Edu Bilbao\\anaconda3\\Lib\\site-packages\\sklearn\\base.py:457: UserWarning: X has feature names, but RandomForestClassifier was fitted without feature names\n",
      "  warnings.warn(\n"
     ]
    },
    {
     "name": "stdout",
     "output_type": "stream",
     "text": [
      "\n",
      "Final Model\n",
      "\n",
      "Accuracy:  0.7570799954868555 \n",
      "\n"
     ]
    },
    {
     "name": "stderr",
     "output_type": "stream",
     "text": [
      "c:\\Users\\Edu Bilbao\\anaconda3\\Lib\\site-packages\\sklearn\\base.py:457: UserWarning: X has feature names, but RandomForestClassifier was fitted without feature names\n",
      "  warnings.warn(\n"
     ]
    },
    {
     "name": "stdout",
     "output_type": "stream",
     "text": [
      "Walk                     13375\n",
      "Public Transportation     4783\n",
      "Private auto               230\n",
      "Name: Mobility choice, dtype: int64\n",
      "\n",
      "Final Model\n",
      "\n",
      "Accuracy:  0.7465869344465756 \n",
      "\n",
      "Walk                     15000\n",
      "Public Transportation     3221\n",
      "Private auto               167\n",
      "Name: Mobility choice, dtype: int64\n"
     ]
    },
    {
     "name": "stderr",
     "output_type": "stream",
     "text": [
      "c:\\Users\\Edu Bilbao\\anaconda3\\Lib\\site-packages\\sklearn\\base.py:457: UserWarning: X has feature names, but RandomForestClassifier was fitted without feature names\n",
      "  warnings.warn(\n"
     ]
    },
    {
     "name": "stdout",
     "output_type": "stream",
     "text": [
      "\n",
      "Final Model\n",
      "\n",
      "Accuracy:  0.759223739140246 \n",
      "\n"
     ]
    },
    {
     "name": "stderr",
     "output_type": "stream",
     "text": [
      "c:\\Users\\Edu Bilbao\\anaconda3\\Lib\\site-packages\\sklearn\\base.py:457: UserWarning: X has feature names, but RandomForestClassifier was fitted without feature names\n",
      "  warnings.warn(\n"
     ]
    },
    {
     "name": "stdout",
     "output_type": "stream",
     "text": [
      "Walk                     12692\n",
      "Public Transportation     5392\n",
      "Private auto               304\n",
      "Name: Mobility choice, dtype: int64\n",
      "\n",
      "Final Model\n",
      "\n",
      "Accuracy:  0.7609161683402911 \n",
      "\n",
      "Walk                     13619\n",
      "Public Transportation     4396\n",
      "Private auto               373\n",
      "Name: Mobility choice, dtype: int64\n"
     ]
    },
    {
     "name": "stderr",
     "output_type": "stream",
     "text": [
      "c:\\Users\\Edu Bilbao\\anaconda3\\Lib\\site-packages\\sklearn\\base.py:457: UserWarning: X has feature names, but RandomForestClassifier was fitted without feature names\n",
      "  warnings.warn(\n"
     ]
    },
    {
     "name": "stdout",
     "output_type": "stream",
     "text": [
      "\n",
      "Final Model\n",
      "\n",
      "Accuracy:  0.7585467674602279 \n",
      "\n"
     ]
    },
    {
     "name": "stderr",
     "output_type": "stream",
     "text": [
      "c:\\Users\\Edu Bilbao\\anaconda3\\Lib\\site-packages\\sklearn\\base.py:457: UserWarning: X has feature names, but RandomForestClassifier was fitted without feature names\n",
      "  warnings.warn(\n"
     ]
    },
    {
     "name": "stdout",
     "output_type": "stream",
     "text": [
      "Walk                     14588\n",
      "Public Transportation     3592\n",
      "Private auto               208\n",
      "Name: Mobility choice, dtype: int64\n",
      "\n",
      "Final Model\n",
      "\n",
      "Accuracy:  0.7579826243935462 \n",
      "\n"
     ]
    },
    {
     "name": "stderr",
     "output_type": "stream",
     "text": [
      "c:\\Users\\Edu Bilbao\\anaconda3\\Lib\\site-packages\\sklearn\\base.py:457: UserWarning: X has feature names, but RandomForestClassifier was fitted without feature names\n",
      "  warnings.warn(\n"
     ]
    },
    {
     "name": "stdout",
     "output_type": "stream",
     "text": [
      "Walk                     14840\n",
      "Public Transportation     3021\n",
      "Private auto               527\n",
      "Name: Mobility choice, dtype: int64\n",
      "\n",
      "Final Model\n",
      "\n",
      "Accuracy:  0.7567415096468464 \n",
      "\n",
      "Walk                     11950\n",
      "Public Transportation     5966\n",
      "Private auto               472\n",
      "Name: Mobility choice, dtype: int64\n"
     ]
    },
    {
     "name": "stderr",
     "output_type": "stream",
     "text": [
      "c:\\Users\\Edu Bilbao\\anaconda3\\Lib\\site-packages\\sklearn\\base.py:457: UserWarning: X has feature names, but RandomForestClassifier was fitted without feature names\n",
      "  warnings.warn(\n"
     ]
    },
    {
     "name": "stdout",
     "output_type": "stream",
     "text": [
      "\n",
      "Final Model\n",
      "\n",
      "Accuracy:  0.7606905111136184 \n",
      "\n",
      "Walk                     12380\n",
      "Public Transportation     5665\n",
      "Private auto               343\n",
      "Name: Mobility choice, dtype: int64\n"
     ]
    },
    {
     "name": "stderr",
     "output_type": "stream",
     "text": [
      "c:\\Users\\Edu Bilbao\\anaconda3\\Lib\\site-packages\\sklearn\\base.py:457: UserWarning: X has feature names, but RandomForestClassifier was fitted without feature names\n",
      "  warnings.warn(\n"
     ]
    },
    {
     "name": "stdout",
     "output_type": "stream",
     "text": [
      "\n",
      "Final Model\n",
      "\n",
      "Accuracy:  0.756290195193501 \n",
      "\n",
      "Walk                     13686\n",
      "Public Transportation     4363\n",
      "Private auto               339\n",
      "Name: Mobility choice, dtype: int64\n"
     ]
    },
    {
     "name": "stderr",
     "output_type": "stream",
     "text": [
      "c:\\Users\\Edu Bilbao\\anaconda3\\Lib\\site-packages\\sklearn\\base.py:457: UserWarning: X has feature names, but RandomForestClassifier was fitted without feature names\n",
      "  warnings.warn(\n"
     ]
    },
    {
     "name": "stdout",
     "output_type": "stream",
     "text": [
      "\n",
      "Final Model\n",
      "\n",
      "Accuracy:  0.7567415096468464 \n",
      "\n",
      "Walk                     13941\n",
      "Public Transportation     4141\n",
      "Private auto               306\n",
      "Name: Mobility choice, dtype: int64\n"
     ]
    },
    {
     "name": "stderr",
     "output_type": "stream",
     "text": [
      "c:\\Users\\Edu Bilbao\\anaconda3\\Lib\\site-packages\\sklearn\\base.py:457: UserWarning: X has feature names, but RandomForestClassifier was fitted without feature names\n",
      "  warnings.warn(\n"
     ]
    },
    {
     "name": "stdout",
     "output_type": "stream",
     "text": [
      "\n",
      "Final Model\n",
      "\n",
      "Accuracy:  0.7536951370867652 \n",
      "\n",
      "Walk                     15080\n",
      "Public Transportation     3043\n",
      "Private auto               265\n",
      "Name: Mobility choice, dtype: int64\n"
     ]
    },
    {
     "name": "stderr",
     "output_type": "stream",
     "text": [
      "c:\\Users\\Edu Bilbao\\anaconda3\\Lib\\site-packages\\sklearn\\base.py:457: UserWarning: X has feature names, but RandomForestClassifier was fitted without feature names\n",
      "  warnings.warn(\n"
     ]
    },
    {
     "name": "stdout",
     "output_type": "stream",
     "text": [
      "\n",
      "Final Model\n",
      "\n",
      "Accuracy:  0.7600135394336004 \n",
      "\n",
      "Walk                     13027\n",
      "Public Transportation     5175\n",
      "Private auto               186\n",
      "Name: Mobility choice, dtype: int64\n"
     ]
    },
    {
     "name": "stderr",
     "output_type": "stream",
     "text": [
      "c:\\Users\\Edu Bilbao\\anaconda3\\Lib\\site-packages\\sklearn\\base.py:457: UserWarning: X has feature names, but RandomForestClassifier was fitted without feature names\n",
      "  warnings.warn(\n"
     ]
    },
    {
     "name": "stdout",
     "output_type": "stream",
     "text": [
      "\n",
      "Final Model\n",
      "\n",
      "Accuracy:  0.7488435067133025 \n",
      "\n",
      "Walk                     14136\n",
      "Public Transportation     4018\n",
      "Private auto               234\n",
      "Name: Mobility choice, dtype: int64\n"
     ]
    },
    {
     "name": "stderr",
     "output_type": "stream",
     "text": [
      "c:\\Users\\Edu Bilbao\\anaconda3\\Lib\\site-packages\\sklearn\\base.py:457: UserWarning: X has feature names, but RandomForestClassifier was fitted without feature names\n",
      "  warnings.warn(\n"
     ]
    },
    {
     "name": "stdout",
     "output_type": "stream",
     "text": [
      "\n",
      "Final Model\n",
      "\n",
      "Accuracy:  0.7580954530068825 \n",
      "\n",
      "Walk                     12666\n",
      "Public Transportation     5384\n",
      "Private auto               338\n",
      "Name: Mobility choice, dtype: int64\n"
     ]
    },
    {
     "name": "stderr",
     "output_type": "stream",
     "text": [
      "c:\\Users\\Edu Bilbao\\anaconda3\\Lib\\site-packages\\sklearn\\base.py:457: UserWarning: X has feature names, but RandomForestClassifier was fitted without feature names\n",
      "  warnings.warn(\n"
     ]
    },
    {
     "name": "stdout",
     "output_type": "stream",
     "text": [
      "\n",
      "Final Model\n",
      "\n",
      "Accuracy:  0.7677987137538079 \n",
      "\n",
      "Walk                     14122\n",
      "Public Transportation     3951\n",
      "Private auto               315\n",
      "Name: Mobility choice, dtype: int64\n"
     ]
    },
    {
     "name": "stderr",
     "output_type": "stream",
     "text": [
      "c:\\Users\\Edu Bilbao\\anaconda3\\Lib\\site-packages\\sklearn\\base.py:457: UserWarning: X has feature names, but RandomForestClassifier was fitted without feature names\n",
      "  warnings.warn(\n"
     ]
    },
    {
     "name": "stdout",
     "output_type": "stream",
     "text": [
      "\n",
      "Final Model\n",
      "\n",
      "Accuracy:  0.7505359359133477 \n",
      "\n",
      "Walk                     14725\n",
      "Public Transportation     3129\n",
      "Private auto               534\n",
      "Name: Mobility choice, dtype: int64\n"
     ]
    },
    {
     "name": "stderr",
     "output_type": "stream",
     "text": [
      "c:\\Users\\Edu Bilbao\\anaconda3\\Lib\\site-packages\\sklearn\\base.py:457: UserWarning: X has feature names, but RandomForestClassifier was fitted without feature names\n",
      "  warnings.warn(\n"
     ]
    },
    {
     "name": "stdout",
     "output_type": "stream",
     "text": [
      "\n",
      "Final Model\n",
      "\n",
      "Accuracy:  0.7629470833803452 \n",
      "\n",
      "Walk                     13463\n",
      "Public Transportation     4719\n",
      "Private auto               206\n",
      "Name: Mobility choice, dtype: int64\n"
     ]
    },
    {
     "name": "stderr",
     "output_type": "stream",
     "text": [
      "c:\\Users\\Edu Bilbao\\anaconda3\\Lib\\site-packages\\sklearn\\base.py:457: UserWarning: X has feature names, but RandomForestClassifier was fitted without feature names\n",
      "  warnings.warn(\n"
     ]
    },
    {
     "name": "stdout",
     "output_type": "stream",
     "text": [
      "\n",
      "Final Model\n",
      "\n",
      "Accuracy:  0.7574184813268645 \n",
      "\n"
     ]
    },
    {
     "name": "stderr",
     "output_type": "stream",
     "text": [
      "c:\\Users\\Edu Bilbao\\anaconda3\\Lib\\site-packages\\sklearn\\base.py:457: UserWarning: X has feature names, but RandomForestClassifier was fitted without feature names\n",
      "  warnings.warn(\n"
     ]
    },
    {
     "name": "stdout",
     "output_type": "stream",
     "text": [
      "Walk                     13974\n",
      "Public Transportation     4056\n",
      "Private auto               358\n",
      "Name: Mobility choice, dtype: int64\n",
      "\n",
      "Final Model\n",
      "\n",
      "Accuracy:  0.7524540223400654 \n",
      "\n",
      "Walk                     13758\n",
      "Public Transportation     4430\n",
      "Private auto               200\n",
      "Name: Mobility choice, dtype: int64\n"
     ]
    },
    {
     "name": "stderr",
     "output_type": "stream",
     "text": [
      "c:\\Users\\Edu Bilbao\\anaconda3\\Lib\\site-packages\\sklearn\\base.py:457: UserWarning: X has feature names, but RandomForestClassifier was fitted without feature names\n",
      "  warnings.warn(\n"
     ]
    },
    {
     "name": "stdout",
     "output_type": "stream",
     "text": [
      "\n",
      "Final Model\n",
      "\n",
      "Accuracy:  0.7574184813268645 \n",
      "\n",
      "Walk                     13691\n",
      "Public Transportation     4217\n",
      "Private auto               480\n",
      "Name: Mobility choice, dtype: int64\n"
     ]
    },
    {
     "name": "stderr",
     "output_type": "stream",
     "text": [
      "c:\\Users\\Edu Bilbao\\anaconda3\\Lib\\site-packages\\sklearn\\base.py:457: UserWarning: X has feature names, but RandomForestClassifier was fitted without feature names\n",
      "  warnings.warn(\n"
     ]
    },
    {
     "name": "stdout",
     "output_type": "stream",
     "text": [
      "\n",
      "Final Model\n",
      "\n",
      "Accuracy:  0.7558388807401557 \n",
      "\n",
      "Walk                     14864\n",
      "Public Transportation     3228\n",
      "Private auto               296\n",
      "Name: Mobility choice, dtype: int64\n"
     ]
    },
    {
     "name": "stderr",
     "output_type": "stream",
     "text": [
      "c:\\Users\\Edu Bilbao\\anaconda3\\Lib\\site-packages\\sklearn\\base.py:457: UserWarning: X has feature names, but RandomForestClassifier was fitted without feature names\n",
      "  warnings.warn(\n"
     ]
    },
    {
     "name": "stdout",
     "output_type": "stream",
     "text": [
      "\n",
      "Final Model\n",
      "\n",
      "Accuracy:  0.7608033397269548 \n",
      "\n"
     ]
    },
    {
     "name": "stderr",
     "output_type": "stream",
     "text": [
      "c:\\Users\\Edu Bilbao\\anaconda3\\Lib\\site-packages\\sklearn\\base.py:457: UserWarning: X has feature names, but RandomForestClassifier was fitted without feature names\n",
      "  warnings.warn(\n"
     ]
    },
    {
     "name": "stdout",
     "output_type": "stream",
     "text": [
      "Walk                     13537\n",
      "Public Transportation     4348\n",
      "Private auto               503\n",
      "Name: Mobility choice, dtype: int64\n",
      "\n",
      "Final Model\n",
      "\n",
      "Accuracy:  0.7574184813268645 \n",
      "\n",
      "Walk                     14759\n",
      "Public Transportation     3292\n",
      "Private auto               337\n",
      "Name: Mobility choice, dtype: int64\n"
     ]
    },
    {
     "name": "stderr",
     "output_type": "stream",
     "text": [
      "c:\\Users\\Edu Bilbao\\anaconda3\\Lib\\site-packages\\sklearn\\base.py:457: UserWarning: X has feature names, but RandomForestClassifier was fitted without feature names\n",
      "  warnings.warn(\n"
     ]
    },
    {
     "name": "stdout",
     "output_type": "stream",
     "text": [
      "\n",
      "Final Model\n",
      "\n",
      "Accuracy:  0.7560645379668284 \n",
      "\n",
      "Walk                     14598\n",
      "Public Transportation     3475\n",
      "Private auto               315\n",
      "Name: Mobility choice, dtype: int64\n"
     ]
    },
    {
     "name": "stderr",
     "output_type": "stream",
     "text": [
      "c:\\Users\\Edu Bilbao\\anaconda3\\Lib\\site-packages\\sklearn\\base.py:457: UserWarning: X has feature names, but RandomForestClassifier was fitted without feature names\n",
      "  warnings.warn(\n"
     ]
    },
    {
     "name": "stdout",
     "output_type": "stream",
     "text": [
      "\n",
      "Final Model\n",
      "\n",
      "Accuracy:  0.7589980819135733 \n",
      "\n",
      "Walk                     14348\n",
      "Public Transportation     3804\n",
      "Private auto               236\n",
      "Name: Mobility choice, dtype: int64\n"
     ]
    },
    {
     "name": "stderr",
     "output_type": "stream",
     "text": [
      "c:\\Users\\Edu Bilbao\\anaconda3\\Lib\\site-packages\\sklearn\\base.py:457: UserWarning: X has feature names, but RandomForestClassifier was fitted without feature names\n",
      "  warnings.warn(\n"
     ]
    },
    {
     "name": "stdout",
     "output_type": "stream",
     "text": [
      "\n",
      "Final Model\n",
      "\n",
      "Accuracy:  0.7591109105269096 \n",
      "\n",
      "Walk                     13460\n",
      "Public Transportation     4523\n",
      "Private auto               405\n",
      "Name: Mobility choice, dtype: int64\n"
     ]
    },
    {
     "name": "stderr",
     "output_type": "stream",
     "text": [
      "c:\\Users\\Edu Bilbao\\anaconda3\\Lib\\site-packages\\sklearn\\base.py:457: UserWarning: X has feature names, but RandomForestClassifier was fitted without feature names\n",
      "  warnings.warn(\n"
     ]
    },
    {
     "name": "stdout",
     "output_type": "stream",
     "text": [
      "\n",
      "Final Model\n",
      "\n",
      "Accuracy:  0.7553875662868104 \n",
      "\n",
      "Walk                     14093\n",
      "Public Transportation     3818\n",
      "Private auto               477\n",
      "Name: Mobility choice, dtype: int64\n"
     ]
    },
    {
     "name": "stderr",
     "output_type": "stream",
     "text": [
      "c:\\Users\\Edu Bilbao\\anaconda3\\Lib\\site-packages\\sklearn\\base.py:457: UserWarning: X has feature names, but RandomForestClassifier was fitted without feature names\n",
      "  warnings.warn(\n"
     ]
    },
    {
     "name": "stdout",
     "output_type": "stream",
     "text": [
      "\n",
      "Final Model\n",
      "\n",
      "Accuracy:  0.7518898792733837 \n",
      "\n",
      "Walk                     13772\n",
      "Public Transportation     4338\n",
      "Private auto               278\n",
      "Name: Mobility choice, dtype: int64\n"
     ]
    },
    {
     "name": "stderr",
     "output_type": "stream",
     "text": [
      "c:\\Users\\Edu Bilbao\\anaconda3\\Lib\\site-packages\\sklearn\\base.py:457: UserWarning: X has feature names, but RandomForestClassifier was fitted without feature names\n",
      "  warnings.warn(\n"
     ]
    },
    {
     "name": "stdout",
     "output_type": "stream",
     "text": [
      "\n",
      "Final Model\n",
      "\n",
      "Accuracy:  0.7620444544736545 \n",
      "\n",
      "Walk                     13525\n",
      "Public Transportation     4641\n",
      "Private auto               222\n",
      "Name: Mobility choice, dtype: int64\n"
     ]
    },
    {
     "name": "stderr",
     "output_type": "stream",
     "text": [
      "c:\\Users\\Edu Bilbao\\anaconda3\\Lib\\site-packages\\sklearn\\base.py:457: UserWarning: X has feature names, but RandomForestClassifier was fitted without feature names\n",
      "  warnings.warn(\n"
     ]
    },
    {
     "name": "stdout",
     "output_type": "stream",
     "text": [
      "\n",
      "Final Model\n",
      "\n",
      "Accuracy:  0.7550490804468013 \n",
      "\n",
      "Walk                     12166\n",
      "Public Transportation     5722\n",
      "Private auto               500\n",
      "Name: Mobility choice, dtype: int64\n"
     ]
    },
    {
     "name": "stderr",
     "output_type": "stream",
     "text": [
      "c:\\Users\\Edu Bilbao\\anaconda3\\Lib\\site-packages\\sklearn\\base.py:457: UserWarning: X has feature names, but RandomForestClassifier was fitted without feature names\n",
      "  warnings.warn(\n"
     ]
    },
    {
     "name": "stdout",
     "output_type": "stream",
     "text": [
      "\n",
      "Final Model\n",
      "\n",
      "Accuracy:  0.7604648538869457 \n",
      "\n",
      "Walk                     12618\n",
      "Public Transportation     5381\n",
      "Private auto               389\n",
      "Name: Mobility choice, dtype: int64\n"
     ]
    },
    {
     "name": "stderr",
     "output_type": "stream",
     "text": [
      "c:\\Users\\Edu Bilbao\\anaconda3\\Lib\\site-packages\\sklearn\\base.py:457: UserWarning: X has feature names, but RandomForestClassifier was fitted without feature names\n",
      "  warnings.warn(\n"
     ]
    },
    {
     "name": "stdout",
     "output_type": "stream",
     "text": [
      "\n",
      "Final Model\n",
      "\n",
      "Accuracy:  0.7584339388468916 \n",
      "\n",
      "Walk                     12691\n",
      "Public Transportation     5261\n",
      "Private auto               436\n",
      "Name: Mobility choice, dtype: int64\n"
     ]
    },
    {
     "name": "stderr",
     "output_type": "stream",
     "text": [
      "c:\\Users\\Edu Bilbao\\anaconda3\\Lib\\site-packages\\sklearn\\base.py:457: UserWarning: X has feature names, but RandomForestClassifier was fitted without feature names\n",
      "  warnings.warn(\n"
     ]
    },
    {
     "name": "stdout",
     "output_type": "stream",
     "text": [
      "\n",
      "Final Model\n",
      "\n",
      "Accuracy:  0.7583211102335552 \n",
      "\n",
      "Walk                     14641\n",
      "Public Transportation     3343\n",
      "Private auto               404\n",
      "Name: Mobility choice, dtype: int64\n"
     ]
    },
    {
     "name": "stderr",
     "output_type": "stream",
     "text": [
      "c:\\Users\\Edu Bilbao\\anaconda3\\Lib\\site-packages\\sklearn\\base.py:457: UserWarning: X has feature names, but RandomForestClassifier was fitted without feature names\n",
      "  warnings.warn(\n"
     ]
    },
    {
     "name": "stdout",
     "output_type": "stream",
     "text": [
      "\n",
      "Final Model\n",
      "\n",
      "Accuracy:  0.7574184813268645 \n",
      "\n",
      "Walk                     13579\n",
      "Public Transportation     4382\n",
      "Private auto               427\n",
      "Name: Mobility choice, dtype: int64\n"
     ]
    },
    {
     "name": "stderr",
     "output_type": "stream",
     "text": [
      "c:\\Users\\Edu Bilbao\\anaconda3\\Lib\\site-packages\\sklearn\\base.py:457: UserWarning: X has feature names, but RandomForestClassifier was fitted without feature names\n",
      "  warnings.warn(\n"
     ]
    },
    {
     "name": "stdout",
     "output_type": "stream",
     "text": [
      "\n",
      "Final Model\n",
      "\n",
      "Accuracy:  0.7555003949001466 \n",
      "\n",
      "Walk                     13189\n",
      "Public Transportation     4599\n",
      "Private auto               600\n",
      "Name: Mobility choice, dtype: int64\n"
     ]
    },
    {
     "name": "stderr",
     "output_type": "stream",
     "text": [
      "c:\\Users\\Edu Bilbao\\anaconda3\\Lib\\site-packages\\sklearn\\base.py:457: UserWarning: X has feature names, but RandomForestClassifier was fitted without feature names\n",
      "  warnings.warn(\n"
     ]
    },
    {
     "name": "stdout",
     "output_type": "stream",
     "text": [
      "\n",
      "Final Model\n",
      "\n",
      "Accuracy:  0.7586595960735643 \n",
      "\n",
      "Walk                     15068\n",
      "Public Transportation     2942\n",
      "Private auto               378\n",
      "Name: Mobility choice, dtype: int64\n"
     ]
    },
    {
     "name": "stderr",
     "output_type": "stream",
     "text": [
      "c:\\Users\\Edu Bilbao\\anaconda3\\Lib\\site-packages\\sklearn\\base.py:457: UserWarning: X has feature names, but RandomForestClassifier was fitted without feature names\n",
      "  warnings.warn(\n"
     ]
    },
    {
     "name": "stdout",
     "output_type": "stream",
     "text": [
      "\n",
      "Final Model\n",
      "\n",
      "Accuracy:  0.750987250366693 \n",
      "\n",
      "Walk                     15067\n",
      "Public Transportation     2926\n",
      "Private auto               395\n",
      "Name: Mobility choice, dtype: int64\n"
     ]
    },
    {
     "name": "stderr",
     "output_type": "stream",
     "text": [
      "c:\\Users\\Edu Bilbao\\anaconda3\\Lib\\site-packages\\sklearn\\base.py:457: UserWarning: X has feature names, but RandomForestClassifier was fitted without feature names\n",
      "  warnings.warn(\n"
     ]
    }
   ],
   "source": [
    "for i in range(100):\n",
    "\n",
    "    trips = pd.read_csv(f\"data/Guadalajara_encoded_SEMS + NO SEMS_OK.csv\",index_col=0)\n",
    "    trips = trips.drop(columns=['Centro específico','Tiempo origen-destino','Latitud','Longitud','Latitud_centro','Longitud_centro'])\n",
    "\n",
    "    #print(trips.head().columns)\n",
    "    trips = trips.drop(trips[trips['Modo transporte'] == 'Public Transportation'].sample(42500).index)\n",
    "    # Reiniciar los índices\n",
    "    trips.reset_index(drop=True, inplace=True)\n",
    "    trips = trips.sample(frac=1).reset_index(drop=True)\n",
    "\n",
    "    X = np.array(trips.drop(columns=\"Modo transporte\"))\n",
    "    y = np.array( trips[\"Modo transporte\"] )\n",
    "\n",
    "    X_train, X_test, y_train, y_test = train_test_split(X, y, test_size=0.3, random_state=random_state)\n",
    "\n",
    "\n",
    "\n",
    "\n",
    "    \n",
    "    rf = RandomForestClassifier(n_estimators=20, random_state=random_state)\n",
    "    train_evaluate(rf)\n",
    "    \n",
    "    column_name = f\"Run_{i}\"\n",
    "    predicts.rename(columns={\"Mobility choice\": column_name}, inplace=True)\n",
    "  \n",
    "\n",
    "# Agregar de nuevo la columna 'Modo transporte' al DataFrame\n",
    "what_if_X['Modo transporte'] = modo_transporte_copia\n",
    "what_if_X = pd.concat([what_if_X, predicts], axis=1)\n",
    "\n",
    "#Save the modified dataframe to a new CSV file\n",
    "what_if_X.to_csv(\"data/What-if 2_pred_OK.csv\")"
   ]
  },
  {
   "cell_type": "code",
   "execution_count": 8,
   "metadata": {},
   "outputs": [
    {
     "name": "stdout",
     "output_type": "stream",
     "text": [
      "Index(['NIVEL', 'CICLO', 'Centro', 'Promedio', 'SEXO', 'EDAD', 'MUNICIPIO',\n",
      "       'Situacion conyugal', 'HIJOS', 'Personas en la vivienda',\n",
      "       ...\n",
      "       'Run_90', 'Run_91', 'Run_92', 'Run_93', 'Run_94', 'Run_95', 'Run_96',\n",
      "       'Run_97', 'Run_98', 'Run_99'],\n",
      "      dtype='object', length=120)\n"
     ]
    }
   ],
   "source": [
    "\n",
    "import pandas as pd\n",
    "\n",
    "# Tu DataFrame original\n",
    "what_if_X = pd.read_csv(\"data/What-if 2_pred_OK.csv\", sep=',', index_col=0)\n",
    "\n",
    "# Imprimir las columnas del DataFrame para verificar los nombres\n",
    "print(what_if_X.columns)\n",
    "\n",
    "import pickle\n",
    "\n",
    "# Definir la lista de columnas que fueron previamente codificadas\n",
    "columnas_codificadas = [\"Centro\", \"NIVEL\", \"SEXO\", \"Situacion conyugal\", \"MUNICIPIO\", \"HIJOS\", \"Material del piso de la casa\", \"Agua entubada en la casa\", \"Luz electrica en la casa\", \"Primer integrante de la familia en asistir a la universidad\", \"Centro específico\"]\n",
    "\n",
    "# Verificar si las columnas codificadas están presentes en el DataFrame\n",
    "columnas_a_decodificar = [col for col in columnas_codificadas if col in what_if_X.columns]\n",
    "\n",
    "# Crear un diccionario para almacenar los encoders correspondientes\n",
    "encoders = {}\n",
    "\n",
    "# Iterar sobre las columnas a decodificar y cargar los encoders desde los archivos pickle\n",
    "for columna in columnas_a_decodificar:\n",
    "    archivo_encoder_pickle = f\"models/encoders/{columna}.pkl\"\n",
    "    \n",
    "    with open(archivo_encoder_pickle, 'rb') as file:\n",
    "        encoder = pickle.load(file)\n",
    "    \n",
    "    encoders[columna] = encoder\n",
    "\n",
    "# Decodificar cada columna en el dataframe what_if_X\n",
    "for columna, encoder in encoders.items():\n",
    "    what_if_X[columna] = encoder.inverse_transform(what_if_X[columna])\n",
    "\n",
    "# Guardar el DataFrame decodificado en un nuevo archivo CSV\n",
    "what_if_X.to_csv(\"data/What-if 2_predictions_decoded_OK.csv\")\n",
    "\n"
   ]
  },
  {
   "cell_type": "code",
   "execution_count": 9,
   "metadata": {},
   "outputs": [],
   "source": [
    "# import pandas as pd\n",
    "\n",
    "# # Cargar el archivo CSV\n",
    "# file_path = \"data/What-if 1_predictions_decoded_OK.csv\"\n",
    "# df = pd.read_csv(file_path)\n",
    "\n",
    "# # Recuento de valores en la columna 'Modo transporte'\n",
    "# modo_transporte_counts = df['Modo transporte'].value_counts()\n",
    "\n",
    "# # Mostrar el recuento de cada valor en 'Modo transporte'\n",
    "# print(\"Recuento de valores en 'Modo transporte':\")\n",
    "# print(modo_transporte_counts)\n",
    "\n",
    "# # Recuento de valores en la columna 'Mobility choice' para cada valor en 'Modo transporte'\n",
    "# for modo_transporte, count in modo_transporte_counts.items():\n",
    "#     subset_df = df[df['Modo transporte'] == modo_transporte]\n",
    "#     mobility_choice_counts = subset_df['Mobility choice'].value_counts()\n",
    "#     print(f\"\\nRecuento de valores en 'Mobility choice' para '{modo_transporte}':\")\n",
    "#     print(mobility_choice_counts)\n",
    "\n",
    "\n",
    "# # Recuento de valores en la columna 'Mobility choice'\n",
    "# mobility_choice_counts = df['Mobility choice'].value_counts()\n",
    "\n",
    "# # Mostrar el recuento de cada valor en 'Mobility choice'\n",
    "# print(\"Recuento de valores en 'Mobility choice':\")\n",
    "# print(mobility_choice_counts)"
   ]
  },
  {
   "cell_type": "code",
   "execution_count": 10,
   "metadata": {},
   "outputs": [
    {
     "data": {
      "image/png": "[encoded data removed]",
      "text/plain": [
       "<Figure size 1000x600 with 1 Axes>"
      ]
     },
     "metadata": {},
     "output_type": "display_data"
    }
   ],
   "source": [
    "import pandas as pd\n",
    "import matplotlib.pyplot as plt\n",
    "\n",
    "# Cargar el archivo CSV\n",
    "file_path = \"data/What-if 2_predictions_decoded_OK.csv\"\n",
    "df = pd.read_csv(file_path)\n",
    "\n",
    "# Obtener las columnas que empiezan con \"Run_\"\n",
    "run_columns = [col for col in df.columns if col.startswith('Run_')]\n",
    "\n",
    "# Crear un DataFrame para almacenar los porcentajes de cada tipo en cada \"Run\"\n",
    "percentages_df = pd.DataFrame()\n",
    "\n",
    "# Calcular los porcentajes para cada tipo en cada \"Run\"\n",
    "for col in run_columns:\n",
    "    total = df[col].count()\n",
    "    percentages_df[col] = df[col].value_counts() / total * 100\n",
    "\n",
    "# Transponer el DataFrame para que los \"Run\" estén en filas y los tipos en columnas\n",
    "percentages_df = percentages_df.transpose()\n",
    "\n",
    "# Graficar los porcentajes con líneas\n",
    "fig, ax = plt.subplots(figsize=(10, 6))\n",
    "\n",
    "# Definir los colores para cada tipo de transporte\n",
    "colors = {'Private auto': 'tab:blue', 'Public Transportation': 'tab:orange', 'Walk': 'tab:green'}\n",
    "\n",
    "for column in percentages_df.columns:\n",
    "    ax.plot(range(1, len(percentages_df.index) + 1), percentages_df[column], label=column, color=colors[column])\n",
    "\n",
    "# Ajustar la escala del eje y de 0 a 100% y los ticks cada 10\n",
    "ax.set_ylim(0, 100)\n",
    "ax.set_yticks(range(0, 101, 10))\n",
    "\n",
    "# Añadir etiquetas y leyenda\n",
    "ax.set_xlabel('Run')  # Cambiar a 'Run' si se desea mantener\n",
    "ax.set_ylabel('Porcentaje %')\n",
    "ax.set_title('Porcentaje de tipos en cada Run')\n",
    "ax.legend()\n",
    "\n",
    "# Mostrar el gráfico\n",
    "plt.tight_layout()\n",
    "plt.show()\n",
    "\n"
   ]
  },
  {
   "cell_type": "code",
   "execution_count": 11,
   "metadata": {},
   "outputs": [
    {
     "data": {
      "image/png": "[encoded data removed]",
      "text/plain": [
       "<Figure size 1000x600 with 1 Axes>"
      ]
     },
     "metadata": {},
     "output_type": "display_data"
    }
   ],
   "source": [
    "import pandas as pd\n",
    "import matplotlib.pyplot as plt\n",
    "\n",
    "# Cargar el archivo CSV\n",
    "file_path = \"data/What-if 2_predictions_decoded_OK.csv\"\n",
    "df = pd.read_csv(file_path)\n",
    "\n",
    "# Obtener las columnas que empiezan con \"Run_\"\n",
    "run_columns = [col for col in df.columns if col.startswith('Run_')]\n",
    "\n",
    "# Crear un DataFrame para almacenar los porcentajes de cada tipo en cada \"Run\"\n",
    "percentages_df = pd.DataFrame()\n",
    "\n",
    "# Calcular los porcentajes para cada tipo en cada \"Run\"\n",
    "for col in run_columns:\n",
    "    total = df[col].count()\n",
    "    percentages_df[col] = df[col].value_counts() / total * 100\n",
    "\n",
    "# Transponer el DataFrame para que los \"Run\" estén en filas y los tipos en columnas\n",
    "percentages_df = percentages_df.transpose()\n",
    "\n",
    "# Calcular la media acumulativa de cada tipo de transporte\n",
    "cumulative_mean = percentages_df.expanding().mean()\n",
    "\n",
    "# Graficar la media acumulativa con líneas\n",
    "fig, ax = plt.subplots(figsize=(10, 6))\n",
    "\n",
    "# Colores específicos para cada tipo de transporte\n",
    "colors = {'Private auto': 'tab:blue', 'Public Transportation': 'tab:orange', 'Walk': 'tab:green'}\n",
    "\n",
    "# Graficar la media acumulativa de cada tipo de transporte con colores específicos\n",
    "for column in cumulative_mean.columns:\n",
    "    ax.plot(range(1, len(cumulative_mean) + 1), cumulative_mean[column], label=column, color=colors[column])\n",
    "\n",
    "# Ajustar la escala del eje y de 0 a 100% y los ticks cada 10\n",
    "ax.set_ylim(0, 100)\n",
    "ax.set_yticks(range(0, 101, 10))\n",
    "\n",
    "# Añadir etiquetas y leyenda\n",
    "ax.set_xlabel('Run')\n",
    "ax.set_ylabel('Porcentaje %')\n",
    "ax.set_title('Media acumulativa de cada tipo de transporte')\n",
    "ax.legend()\n",
    "\n",
    "# Mostrar el gráfico\n",
    "plt.tight_layout()\n",
    "plt.show()\n"
   ]
  },
  {
   "cell_type": "code",
   "execution_count": 12,
   "metadata": {},
   "outputs": [
    {
     "data": {
      "image/png": "[encoded data removed]",
      "text/plain": [
       "<Figure size 1000x600 with 1 Axes>"
      ]
     },
     "metadata": {},
     "output_type": "display_data"
    }
   ],
   "source": [
    "import pandas as pd\n",
    "import matplotlib.pyplot as plt\n",
    "\n",
    "# Cargar el archivo CSV\n",
    "file_path = \"data/What-if 2_predictions_decoded_OK.csv\"\n",
    "df = pd.read_csv(file_path)\n",
    "\n",
    "# Obtener las columnas que empiezan con \"Run_\"\n",
    "run_columns = [col for col in df.columns if col.startswith('Run_')]\n",
    "\n",
    "# Crear un DataFrame para almacenar los porcentajes de cada tipo en cada \"Run\"\n",
    "percentages_df = pd.DataFrame()\n",
    "\n",
    "# Calcular los porcentajes para cada tipo en cada \"Run\"\n",
    "for col in run_columns:\n",
    "    total = df[col].count()\n",
    "    percentages_df[col] = df[col].value_counts() / total * 100\n",
    "\n",
    "# Transponer el DataFrame para que los \"Run\" estén en filas y los tipos en columnas\n",
    "percentages_df = percentages_df.transpose()\n",
    "\n",
    "# Calcular la media acumulativa y la desviación estándar de cada tipo de transporte\n",
    "cumulative_mean = percentages_df.expanding().mean()\n",
    "cumulative_std = percentages_df.expanding().std()\n",
    "\n",
    "# Graficar la media acumulativa con líneas y añadir la desviación estándar como sombreado\n",
    "fig, ax = plt.subplots(figsize=(10, 6))\n",
    "\n",
    "# Colores específicos para cada tipo de transporte\n",
    "colors = {'Private auto': 'tab:blue', 'Public Transportation': 'tab:orange', 'Walk': 'tab:green'}\n",
    "\n",
    "for column in cumulative_mean.columns:\n",
    "    ax.plot(range(1, len(cumulative_mean) + 1), cumulative_mean[column], label=column, color=colors[column])\n",
    "    ax.fill_between(range(1, len(cumulative_mean) + 1),\n",
    "                    cumulative_mean[column] - cumulative_std[column],\n",
    "                    cumulative_mean[column] + cumulative_std[column],\n",
    "                    color=colors[column], alpha=0.3)\n",
    "\n",
    "# Ajustar la escala del eje y de 0 a 100% y los ticks cada 10\n",
    "ax.set_ylim(0, 100)\n",
    "ax.set_yticks(range(0, 101, 10))\n",
    "\n",
    "# Añadir etiquetas y leyenda\n",
    "ax.set_xlabel('Run')\n",
    "ax.set_ylabel('Porcentaje %')\n",
    "ax.set_title('Media acumulativa de cada tipo de transporte con desviación estándar')\n",
    "ax.legend()\n",
    "\n",
    "# Mostrar el gráfico\n",
    "plt.tight_layout()\n",
    "plt.show()"
   ]
  },
  {
   "cell_type": "code",
   "execution_count": 13,
   "metadata": {},
   "outputs": [
    {
     "name": "stdout",
     "output_type": "stream",
     "text": [
      "1.9842169515086827\n"
     ]
    },
    {
     "data": {
      "image/png": "[encoded data removed]",
      "text/plain": [
       "<Figure size 1000x600 with 1 Axes>"
      ]
     },
     "metadata": {},
     "output_type": "display_data"
    }
   ],
   "source": [
    "import pandas as pd\n",
    "import numpy as np\n",
    "import matplotlib.pyplot as plt\n",
    "from scipy.stats import t\n",
    "\n",
    "# Cargar el archivo CSV\n",
    "file_path = \"data/What-if 2_predictions_decoded_OK.csv\"\n",
    "df = pd.read_csv(file_path)\n",
    "\n",
    "# Obtener las columnas que empiezan con \"Run_\"\n",
    "run_columns = [col for col in df.columns if col.startswith('Run_')]\n",
    "\n",
    "# Crear un DataFrame para almacenar los porcentajes de cada tipo en cada \"Run\"\n",
    "percentages_df = pd.DataFrame()\n",
    "\n",
    "# Calcular los porcentajes para cada tipo en cada \"Run\"\n",
    "for col in run_columns:\n",
    "    total = df[col].count()\n",
    "    percentages_df[col] = df[col].value_counts() / total * 100\n",
    "\n",
    "# Transponer el DataFrame para que los \"Run\" estén en filas y los tipos en columnas\n",
    "percentages_df = percentages_df.transpose()\n",
    "\n",
    "# Calcular la media acumulativa y el intervalo de confianza de cada tipo de transporte\n",
    "cumulative_mean = percentages_df.expanding().mean()\n",
    "n = len(percentages_df)\n",
    "alpha = 0.05  # Nivel de confianza del 95%\n",
    "t_value = t.ppf(1 - alpha / 2, n - 1)  # Valor t para el intervalo de confianza\n",
    "print(t_value)\n",
    "margin_error = t_value * percentages_df.expanding().std() / np.sqrt(n)\n",
    "\n",
    "# Graficar la media acumulativa con líneas y añadir el intervalo de confianza\n",
    "fig, ax = plt.subplots(figsize=(10, 6))\n",
    "\n",
    "# Colores específicos para cada tipo de transporte\n",
    "colors = {'Private auto': 'tab:blue', 'Public Transportation': 'tab:orange', 'Walk': 'tab:green'}\n",
    "\n",
    "for column in cumulative_mean.columns:\n",
    "    ax.plot(range(1, len(cumulative_mean) + 1), cumulative_mean[column], label=column, color=colors[column])\n",
    "    ax.fill_between(range(1, len(cumulative_mean) + 1),\n",
    "                    cumulative_mean[column] - margin_error[column],\n",
    "                    cumulative_mean[column] + margin_error[column],\n",
    "                    color=colors[column], alpha=0.3)\n",
    "\n",
    "# Ajustar la escala del eje y de 0 a 100% y los ticks cada 10\n",
    "ax.set_ylim(0, 100)\n",
    "ax.set_yticks(range(0, 101, 10))\n",
    "\n",
    "# Añadir etiquetas y leyenda\n",
    "ax.set_xlabel('Run')\n",
    "ax.set_ylabel('Porcentaje %')\n",
    "ax.set_title('Media acumulativa de cada tipo de transporte con intervalo de confianza')\n",
    "ax.legend()\n",
    "\n",
    "# Mostrar el gráfico\n",
    "plt.tight_layout()\n",
    "plt.show()"
   ]
  },
  {
   "cell_type": "code",
   "execution_count": 14,
   "metadata": {},
   "outputs": [
    {
     "name": "stdout",
     "output_type": "stream",
     "text": [
      "Media acumulada hasta el Run 10:\n",
      "Walk: 76.44% ± 1.39%\n",
      "Public Transportation: 21.73% ± 1.35%\n",
      "Private auto: 1.83% ± 0.10%\n",
      "\n",
      "Media acumulada hasta el Run 20:\n",
      "Walk: 76.13% ± 1.32%\n",
      "Public Transportation: 22.17% ± 1.25%\n",
      "Private auto: 1.70% ± 0.11%\n",
      "\n",
      "Media acumulada hasta el Run 30:\n",
      "Walk: 75.80% ± 1.27%\n",
      "Public Transportation: 22.46% ± 1.21%\n",
      "Private auto: 1.74% ± 0.10%\n",
      "\n",
      "Media acumulada hasta el Run 40:\n",
      "Walk: 75.37% ± 1.23%\n",
      "Public Transportation: 22.93% ± 1.21%\n",
      "Private auto: 1.71% ± 0.10%\n",
      "\n",
      "Media acumulada hasta el Run 50:\n",
      "Walk: 75.51% ± 1.19%\n",
      "Public Transportation: 22.74% ± 1.17%\n",
      "Private auto: 1.75% ± 0.11%\n",
      "\n",
      "Media acumulada hasta el Run 60:\n",
      "Walk: 75.69% ± 1.14%\n",
      "Public Transportation: 22.50% ± 1.11%\n",
      "Private auto: 1.81% ± 0.11%\n",
      "\n",
      "Media acumulada hasta el Run 70:\n",
      "Walk: 75.50% ± 1.14%\n",
      "Public Transportation: 22.70% ± 1.12%\n",
      "Private auto: 1.80% ± 0.12%\n",
      "\n",
      "Media acumulada hasta el Run 80:\n",
      "Walk: 75.39% ± 1.12%\n",
      "Public Transportation: 22.82% ± 1.10%\n",
      "Private auto: 1.79% ± 0.12%\n",
      "\n",
      "Media acumulada hasta el Run 90:\n",
      "Walk: 75.54% ± 1.07%\n",
      "Public Transportation: 22.66% ± 1.05%\n",
      "Private auto: 1.81% ± 0.11%\n",
      "\n",
      "Media acumulada hasta el Run 100:\n",
      "Walk: 75.40% ± 1.07%\n",
      "Public Transportation: 22.76% ± 1.05%\n",
      "Private auto: 1.84% ± 0.12%\n",
      "\n"
     ]
    }
   ],
   "source": [
    "import pandas as pd\n",
    "import numpy as np\n",
    "from scipy.stats import t\n",
    "\n",
    "# Supongamos que ya tienes calculadas las variables cumulative_mean y margin_error como en tu código anterior\n",
    "\n",
    "# Número de \"Runs\" a imprimir cada 10\n",
    "runs_to_print = 10\n",
    "\n",
    "# Imprimir la media acumulada y el intervalo de confianza cada 10 \"Runs\"\n",
    "for i in range(0, len(cumulative_mean), runs_to_print):\n",
    "    print(f\"Media acumulada hasta el Run {i + runs_to_print}:\")\n",
    "    for column in cumulative_mean.columns:\n",
    "        mean_value = cumulative_mean[column].iloc[i + runs_to_print - 1]\n",
    "        error_value = margin_error[column].iloc[i + runs_to_print - 1]\n",
    "        print(f\"{column}: {mean_value:.2f}% ± {error_value:.2f}%\")\n",
    "    print()"
   ]
  },
  {
   "cell_type": "code",
   "execution_count": 15,
   "metadata": {},
   "outputs": [
    {
     "name": "stdout",
     "output_type": "stream",
     "text": [
      "Valores de la media acumulada en el Run 50:\n",
      "Walk                     75.511529\n",
      "Public Transportation    22.738416\n",
      "Private auto              1.750054\n",
      "Name: Run_49, dtype: float64\n"
     ]
    }
   ],
   "source": [
    "# Obtener los valores de la media acumulada en el Run 50 para los tres medios de transporte\n",
    "run_50_cumulative_mean = cumulative_mean.loc['Run_49']\n",
    "\n",
    "# Mostrar los valores de la media acumulada en el Run 50\n",
    "print(\"Valores de la media acumulada en el Run 50:\")\n",
    "print(run_50_cumulative_mean)"
   ]
  },
  {
   "cell_type": "code",
   "execution_count": 16,
   "metadata": {},
   "outputs": [
    {
     "name": "stdout",
     "output_type": "stream",
     "text": [
      "1.9904502099893602\n"
     ]
    },
    {
     "data": {
      "image/png": "[encoded data removed]",
      "text/plain": [
       "<Figure size 1000x600 with 1 Axes>"
      ]
     },
     "metadata": {},
     "output_type": "display_data"
    }
   ],
   "source": [
    "import pandas as pd\n",
    "import numpy as np\n",
    "import matplotlib.pyplot as plt\n",
    "from scipy.stats import t\n",
    "\n",
    "# Cargar el archivo CSV\n",
    "file_path = \"data/What-if 2_predictions_decoded_OK.csv\"\n",
    "df = pd.read_csv(file_path)\n",
    "\n",
    "# Obtener las columnas que empiezan con \"Run_\"\n",
    "run_columns = [col for col in df.columns if col.startswith('Run_')]\n",
    "\n",
    "# Limitar los run_columns a los primeros 80\n",
    "run_columns = run_columns[:80]\n",
    "\n",
    "# Crear un DataFrame para almacenar los porcentajes de cada tipo en cada \"Run\"\n",
    "percentages_df = pd.DataFrame()\n",
    "\n",
    "# Calcular los porcentajes para cada tipo en cada \"Run\"\n",
    "for col in run_columns:\n",
    "    total = df[col].count()\n",
    "    percentages_df[col] = df[col].value_counts() / total * 100\n",
    "\n",
    "# Transponer el DataFrame para que los \"Run\" estén en filas y los tipos en columnas\n",
    "percentages_df = percentages_df.transpose()\n",
    "\n",
    "# Calcular la media acumulativa y el intervalo de confianza de cada tipo de transporte\n",
    "cumulative_mean = percentages_df.expanding().mean()\n",
    "n = len(percentages_df)\n",
    "alpha = 0.05  # Nivel de confianza del 95%\n",
    "t_value = t.ppf(1 - alpha / 2, n - 1)  # Valor t para el intervalo de confianza\n",
    "print(t_value)\n",
    "margin_error = t_value * percentages_df.expanding().std() / np.sqrt(n)\n",
    "\n",
    "# Graficar la media acumulativa con líneas y añadir el intervalo de confianza\n",
    "fig, ax = plt.subplots(figsize=(10, 6))\n",
    "\n",
    "# Colores específicos para cada tipo de transporte\n",
    "colors = {'Private auto': 'tab:blue', 'Public Transportation': 'tab:orange', 'Walk': 'tab:green'}\n",
    "\n",
    "for column in cumulative_mean.columns:\n",
    "    ax.plot(range(1, len(cumulative_mean) + 1), cumulative_mean[column], label=column, color=colors[column])\n",
    "    ax.fill_between(range(1, len(cumulative_mean) + 1),\n",
    "                    cumulative_mean[column] - margin_error[column],\n",
    "                    cumulative_mean[column] + margin_error[column],\n",
    "                    color=colors[column], alpha=0.3)\n",
    "\n",
    "# Ajustar la escala del eje y de 0 a 100% y los ticks cada 10\n",
    "ax.set_ylim(0, 100)\n",
    "ax.set_yticks(range(0, 101, 10))\n",
    "ax.set_xlim(1, 80)  # Limitar el eje x a 80 runs\n",
    "ax.set_xticks(range(0, 81, 10))  # Ticks en el eje x cada 10 runs\n",
    "\n",
    "# Añadir etiquetas y leyenda\n",
    "ax.set_xlabel('Run')\n",
    "ax.set_ylabel('Porcentaje %')\n",
    "ax.set_title('Media acumulativa de cada tipo de transporte con intervalo de confianza')\n",
    "ax.legend()\n",
    "\n",
    "# Mostrar el gráfico\n",
    "plt.tight_layout()\n",
    "plt.show()"
   ]
  },
  {
   "cell_type": "code",
   "execution_count": 17,
   "metadata": {},
   "outputs": [
    {
     "data": {
      "image/png": "[encoded data removed]",
      "text/plain": [
       "<Figure size 1000x600 with 1 Axes>"
      ]
     },
     "metadata": {},
     "output_type": "display_data"
    }
   ],
   "source": [
    "import pandas as pd\n",
    "import numpy as np\n",
    "import matplotlib.pyplot as plt\n",
    "from scipy.stats import t\n",
    "\n",
    "# Cargar el archivo CSV\n",
    "file_path = \"data/What-if 2_predictions_decoded_OK.csv\"\n",
    "df = pd.read_csv(file_path)\n",
    "\n",
    "# Obtener las columnas que empiezan con \"Run_\"\n",
    "run_columns = [col for col in df.columns if col.startswith('Run_')]\n",
    "\n",
    "# Limitar los run_columns a los primeros 80\n",
    "run_columns = run_columns[:50]\n",
    "\n",
    "# Crear un DataFrame para almacenar los porcentajes de cada tipo en cada \"Run\"\n",
    "percentages_df = pd.DataFrame()\n",
    "\n",
    "# Calcular los porcentajes para cada tipo en cada \"Run\"\n",
    "for col in run_columns:\n",
    "    total = df[col].count()\n",
    "    percentages_df[col] = df[col].value_counts() / total * 100\n",
    "\n",
    "# Transponer el DataFrame para que los \"Run\" estén en filas y los tipos en columnas\n",
    "percentages_df = percentages_df.transpose()\n",
    "\n",
    "# Calcular la media acumulativa y el intervalo de confianza de cada tipo de transporte\n",
    "cumulative_mean = percentages_df.expanding().mean()\n",
    "n = len(percentages_df)\n",
    "alpha = 0.05  # Nivel de confianza del 95%\n",
    "t_value = t.ppf(1 - alpha / 2, n - 1)  # Valor t para el intervalo de confianza\n",
    "margin_error = t_value * percentages_df.expanding().std() / np.sqrt(n)\n",
    "\n",
    "# Graficar la media acumulativa con líneas y añadir el intervalo de confianza\n",
    "fig, ax = plt.subplots(figsize=(10, 6))\n",
    "\n",
    "# Colores específicos para cada tipo de transporte\n",
    "colors = {'Private auto': 'tab:blue', 'Public Transportation': 'tab:orange', 'Walk': 'tab:green'}\n",
    "\n",
    "for column in cumulative_mean.columns:\n",
    "    ax.plot(range(1, len(cumulative_mean) + 1), cumulative_mean[column], label=column, color=colors[column])\n",
    "    ax.fill_between(range(1, len(cumulative_mean) + 1),\n",
    "                    cumulative_mean[column] - margin_error[column],\n",
    "                    cumulative_mean[column] + margin_error[column],\n",
    "                    color=colors[column], alpha=0.3)\n",
    "\n",
    "# Añadir línea vertical en el run 40\n",
    "ax.axvline(x=20, color='red', linestyle='--', linewidth=1, label='Stabilization point')\n",
    "\n",
    "# Ajustar la escala del eje y de 0 a 100% y los ticks cada 10\n",
    "ax.set_ylim(0, 100)\n",
    "ax.set_yticks(range(0, 101, 10))\n",
    "ax.set_xlim(1, 50)  # Limitar el eje x a 80 runs\n",
    "ax.set_xticks([1, 10, 20, 30, 40, 50])\n",
    "\n",
    "# Añadir etiquetas y leyenda\n",
    "ax.set_xlabel('Cumulative mean of runs')\n",
    "ax.set_ylabel('Percentage (%) of transportation usage')\n",
    "ax.set_title('Mobility choice usage for What-if 2? Students living in a walkabke community')\n",
    "ax.legend()\n",
    "\n",
    "# Mostrar el gráfico\n",
    "plt.tight_layout()\n",
    "plt.show()"
   ]
  },
  {
   "cell_type": "code",
   "execution_count": 18,
   "metadata": {},
   "outputs": [
    {
     "data": {
      "image/png": "[encoded data removed]",
      "text/plain": [
       "<Figure size 1000x600 with 1 Axes>"
      ]
     },
     "metadata": {},
     "output_type": "display_data"
    }
   ],
   "source": [
    "import pandas as pd\n",
    "import numpy as np\n",
    "import matplotlib.pyplot as plt\n",
    "from scipy.stats import t\n",
    "\n",
    "# Cargar el archivo CSV\n",
    "file_path = \"data/What-if 2_predictions_decoded_OK.csv\"\n",
    "df = pd.read_csv(file_path)\n",
    "\n",
    "# Obtener las columnas que empiezan con \"Run_\"\n",
    "run_columns = [col for col in df.columns if col.startswith('Run_')]\n",
    "\n",
    "# Limitar los run_columns a los primeros 80\n",
    "run_columns = run_columns[:80]\n",
    "\n",
    "# Crear un DataFrame para almacenar los porcentajes de cada tipo en cada \"Run\"\n",
    "percentages_df = pd.DataFrame()\n",
    "\n",
    "# Calcular los porcentajes para cada tipo en cada \"Run\"\n",
    "for col in run_columns:\n",
    "    total = df[col].count()\n",
    "    percentages_df[col] = df[col].value_counts() / total * 100\n",
    "\n",
    "# Transponer el DataFrame para que los \"Run\" estén en filas y los tipos en columnas\n",
    "percentages_df = percentages_df.transpose()\n",
    "\n",
    "# Calcular la media acumulativa y el intervalo de confianza de cada tipo de transporte\n",
    "cumulative_mean = percentages_df.expanding().mean()\n",
    "n = len(percentages_df)\n",
    "alpha = 0.05  # Nivel de confianza del 95%\n",
    "t_value = t.ppf(1 - alpha / 2, n - 1)  # Valor t para el intervalo de confianza\n",
    "margin_error = t_value * percentages_df.expanding().std() / np.sqrt(n)\n",
    "\n",
    "# Graficar la media acumulativa con líneas y añadir el intervalo de confianza\n",
    "fig, ax = plt.subplots(figsize=(10, 6))\n",
    "\n",
    "# Colores específicos para cada tipo de transporte\n",
    "colors = {'Private auto': 'tab:blue', 'Public Transportation': 'tab:orange', 'Walk': 'tab:green'}\n",
    "\n",
    "for column in cumulative_mean.columns:\n",
    "    ax.plot(range(1, len(cumulative_mean) + 1), cumulative_mean[column], label=column, color=colors[column])\n",
    "    ax.fill_between(range(1, len(cumulative_mean) + 1),\n",
    "                    cumulative_mean[column] - margin_error[column],\n",
    "                    cumulative_mean[column] + margin_error[column],\n",
    "                    color=colors[column], alpha=0.3)\n",
    "\n",
    "# Añadir línea vertical en el run 40\n",
    "ax.axvline(x=40, color='red', linestyle='--', linewidth=1, label='Stabilization Point')\n",
    "\n",
    "# Ajustar la escala del eje y de 0 a 100% y los ticks cada 10\n",
    "ax.set_ylim(0, 100)\n",
    "ax.set_yticks(range(0, 101, 10))\n",
    "ax.set_xlim(1, 80)  # Limitar el eje x a 80 runs\n",
    "ax.set_xticks([1, 10, 20, 30, 40, 50, 60, 70, 80])\n",
    "\n",
    "# Añadir etiquetas y leyenda\n",
    "ax.set_xlabel('Cumulative Mean of Runs')\n",
    "ax.set_ylabel('Percentage (%) of Transportation Usage')\n",
    "ax.set_title('Mobility choice usage for scenario 2: Students living in a walkable community')\n",
    "ax.legend()\n",
    "\n",
    "# Mostrar el gráfico\n",
    "plt.tight_layout()\n",
    "plt.show()"
   ]
  }
 ],
 "metadata": {
  "kernelspec": {
   "display_name": "geo",
   "language": "python",
   "name": "python3"
  },
  "language_info": {
   "codemirror_mode": {
    "name": "ipython",
    "version": 3
   },
   "file_extension": ".py",
   "mimetype": "text/x-python",
   "name": "python",
   "nbconvert_exporter": "python",
   "pygments_lexer": "ipython3",
   "version": "3.11.5"
  },
  "orig_nbformat": 4
 },
 "nbformat": 4,
 "nbformat_minor": 2
}
